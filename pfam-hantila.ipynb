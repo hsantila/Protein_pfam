{
 "cells": [
  {
   "cell_type": "markdown",
   "id": "cde1f4e1",
   "metadata": {
    "papermill": {
     "duration": 0.013661,
     "end_time": "2022-12-07T11:20:30.052448",
     "exception": false,
     "start_time": "2022-12-07T11:20:30.038787",
     "status": "completed"
    },
    "tags": []
   },
   "source": [
    "# Problem description\n",
    "\n",
    "This directory contains data to train a model to predict the function of protein domains, based\n",
    "on the PFam dataset.\n",
    "\n",
    "Domains are functional sub-parts of proteins; much like images in ImageNet are pre segmented to\n",
    "contain exactly one object class, this data is presegmented to contain exactly and only one\n",
    "domain.\n",
    "\n",
    "The purpose of the dataset is to repose the PFam seed dataset as a multiclass classification\n",
    "machine learning task.\n",
    "\n",
    "**The task is:** given the amino acid sequence of the protein domain, predict which class it belongs\n",
    "to. There are about 1 million training examples, and 18,000 output classes."
   ]
  },
  {
   "cell_type": "code",
   "execution_count": 1,
   "id": "dcf61244",
   "metadata": {
    "execution": {
     "iopub.execute_input": "2022-12-07T11:20:30.082225Z",
     "iopub.status.busy": "2022-12-07T11:20:30.081602Z",
     "iopub.status.idle": "2022-12-07T11:20:31.141665Z",
     "shell.execute_reply": "2022-12-07T11:20:31.140252Z"
    },
    "papermill": {
     "duration": 1.080254,
     "end_time": "2022-12-07T11:20:31.145161",
     "exception": false,
     "start_time": "2022-12-07T11:20:30.064907",
     "status": "completed"
    },
    "tags": []
   },
   "outputs": [
    {
     "name": "stdout",
     "output_type": "stream",
     "text": [
      "Available data ['random_split', 'test', 'train', 'dev']\n"
     ]
    }
   ],
   "source": [
    "import os\n",
    "import pandas as pd #for file handling\n",
    "import matplotlib.pyplot as plt # plotting\n",
    "import seaborn as sns # fancy plotting\n",
    "import numpy as np # linear algebra\n",
    "import gc # for memory cleaning\n",
    "\n",
    "\n",
    "data_path = '../input/pfam-seed-random-split/random_split' #Make sure to modify to your location\n",
    "print('Available data', os.listdir(data_path))\n",
    "\n",
    "def read_data(partition):\n",
    "  data = []\n",
    "  for fn in os.listdir(os.path.join(data_path, partition)):\n",
    "    with open(os.path.join(data_path, partition, fn)) as f:\n",
    "      data.append(pd.read_csv(f, index_col=None))\n",
    "  return pd.concat(data)"
   ]
  },
  {
   "cell_type": "markdown",
   "id": "498c6f83",
   "metadata": {
    "papermill": {
     "duration": 0.011851,
     "end_time": "2022-12-07T11:20:31.169901",
     "exception": false,
     "start_time": "2022-12-07T11:20:31.158050",
     "status": "completed"
    },
    "tags": []
   },
   "source": [
    "# Initial data exploration"
   ]
  },
  {
   "cell_type": "code",
   "execution_count": 2,
   "id": "aa416806",
   "metadata": {
    "execution": {
     "iopub.execute_input": "2022-12-07T11:20:31.200227Z",
     "iopub.status.busy": "2022-12-07T11:20:31.199218Z",
     "iopub.status.idle": "2022-12-07T11:20:53.296970Z",
     "shell.execute_reply": "2022-12-07T11:20:53.295521Z"
    },
    "papermill": {
     "duration": 22.117769,
     "end_time": "2022-12-07T11:20:53.299782",
     "exception": false,
     "start_time": "2022-12-07T11:20:31.182013",
     "status": "completed"
    },
    "tags": []
   },
   "outputs": [
    {
     "data": {
      "text/html": [
       "<div>\n",
       "<style scoped>\n",
       "    .dataframe tbody tr th:only-of-type {\n",
       "        vertical-align: middle;\n",
       "    }\n",
       "\n",
       "    .dataframe tbody tr th {\n",
       "        vertical-align: top;\n",
       "    }\n",
       "\n",
       "    .dataframe thead th {\n",
       "        text-align: right;\n",
       "    }\n",
       "</style>\n",
       "<table border=\"1\" class=\"dataframe\">\n",
       "  <thead>\n",
       "    <tr style=\"text-align: right;\">\n",
       "      <th></th>\n",
       "      <th>family_id</th>\n",
       "      <th>sequence_name</th>\n",
       "      <th>family_accession</th>\n",
       "      <th>aligned_sequence</th>\n",
       "      <th>sequence</th>\n",
       "    </tr>\n",
       "  </thead>\n",
       "  <tbody>\n",
       "    <tr>\n",
       "      <th>0</th>\n",
       "      <td>Ribosomal_L28</td>\n",
       "      <td>G2PE79_STRVO/4-62</td>\n",
       "      <td>PF00830.19</td>\n",
       "      <td>.HCQLTG.RQPGFGHH.....I....S.HS...............H...</td>\n",
       "      <td>HCQLTGRQPGFGHHISHSHRRTKRRFDPNIQHKRYWLPSEGRHIRL...</td>\n",
       "    </tr>\n",
       "    <tr>\n",
       "      <th>1</th>\n",
       "      <td>DUF2073</td>\n",
       "      <td>A3CWG8_METMJ/15-119</td>\n",
       "      <td>PF09846.9</td>\n",
       "      <td>LERLTAMEKIRLILDDVMEGNIVILEKGLAPDEQSKLIEITMREIA...</td>\n",
       "      <td>LERLTAMEKIRLILDDVMEGNIVILEKGLAPDEQSKLIEITMREIA...</td>\n",
       "    </tr>\n",
       "    <tr>\n",
       "      <th>2</th>\n",
       "      <td>UPF0052</td>\n",
       "      <td>B8HTP5_CYAP4/137-423</td>\n",
       "      <td>PF01933.18</td>\n",
       "      <td>IVAIGGGTGLSTLL..............RGLKEYS..............</td>\n",
       "      <td>IVAIGGGTGLSTLLRGLKEYSANITAIVTVADDGGSSGRLRREIGV...</td>\n",
       "    </tr>\n",
       "    <tr>\n",
       "      <th>3</th>\n",
       "      <td>SBD_N</td>\n",
       "      <td>Q12HD1_POLSJ/12-248</td>\n",
       "      <td>PF07005.11</td>\n",
       "      <td>LAYYGDDFTGSTDVMEAFSA.....AGV........PTVLF.LRP....</td>\n",
       "      <td>LAYYGDDFTGSTDVMEAFSAAGVPTVLFLRPPTADWLKRFPEVRCV...</td>\n",
       "    </tr>\n",
       "    <tr>\n",
       "      <th>4</th>\n",
       "      <td>LepA_C</td>\n",
       "      <td>D7G0L8_ECTSI/605-711</td>\n",
       "      <td>PF06421.12</td>\n",
       "      <td>INGEDAPPLSTVCHRDQAHQRGKVLTEKLKQLIPRQMFRVPIQACI...</td>\n",
       "      <td>INGEDAPPLSTVCHRDQAHQRGKVLTEKLKQLIPRQMFRVPIQACI...</td>\n",
       "    </tr>\n",
       "  </tbody>\n",
       "</table>\n",
       "</div>"
      ],
      "text/plain": [
       "       family_id         sequence_name family_accession  \\\n",
       "0  Ribosomal_L28     G2PE79_STRVO/4-62       PF00830.19   \n",
       "1        DUF2073   A3CWG8_METMJ/15-119        PF09846.9   \n",
       "2        UPF0052  B8HTP5_CYAP4/137-423       PF01933.18   \n",
       "3          SBD_N   Q12HD1_POLSJ/12-248       PF07005.11   \n",
       "4         LepA_C  D7G0L8_ECTSI/605-711       PF06421.12   \n",
       "\n",
       "                                    aligned_sequence  \\\n",
       "0  .HCQLTG.RQPGFGHH.....I....S.HS...............H...   \n",
       "1  LERLTAMEKIRLILDDVMEGNIVILEKGLAPDEQSKLIEITMREIA...   \n",
       "2  IVAIGGGTGLSTLL..............RGLKEYS..............   \n",
       "3  LAYYGDDFTGSTDVMEAFSA.....AGV........PTVLF.LRP....   \n",
       "4  INGEDAPPLSTVCHRDQAHQRGKVLTEKLKQLIPRQMFRVPIQACI...   \n",
       "\n",
       "                                            sequence  \n",
       "0  HCQLTGRQPGFGHHISHSHRRTKRRFDPNIQHKRYWLPSEGRHIRL...  \n",
       "1  LERLTAMEKIRLILDDVMEGNIVILEKGLAPDEQSKLIEITMREIA...  \n",
       "2  IVAIGGGTGLSTLLRGLKEYSANITAIVTVADDGGSSGRLRREIGV...  \n",
       "3  LAYYGDDFTGSTDVMEAFSAAGVPTVLFLRPPTADWLKRFPEVRCV...  \n",
       "4  INGEDAPPLSTVCHRDQAHQRGKVLTEKLKQLIPRQMFRVPIQACI...  "
      ]
     },
     "execution_count": 2,
     "metadata": {},
     "output_type": "execute_result"
    }
   ],
   "source": [
    "\"Reading in data\"\n",
    "df_train = read_data('train')\n",
    "df_val = read_data('dev')\n",
    "df_test = read_data('test')\n",
    "\"checking out the headers\"\n",
    "df_test.head()"
   ]
  },
  {
   "cell_type": "code",
   "execution_count": 3,
   "id": "1a188603",
   "metadata": {
    "execution": {
     "iopub.execute_input": "2022-12-07T11:20:53.329593Z",
     "iopub.status.busy": "2022-12-07T11:20:53.329043Z",
     "iopub.status.idle": "2022-12-07T11:20:53.343774Z",
     "shell.execute_reply": "2022-12-07T11:20:53.342486Z"
    },
    "papermill": {
     "duration": 0.033689,
     "end_time": "2022-12-07T11:20:53.346231",
     "exception": false,
     "start_time": "2022-12-07T11:20:53.312542",
     "status": "completed"
    },
    "tags": []
   },
   "outputs": [
    {
     "data": {
      "text/html": [
       "<div>\n",
       "<style scoped>\n",
       "    .dataframe tbody tr th:only-of-type {\n",
       "        vertical-align: middle;\n",
       "    }\n",
       "\n",
       "    .dataframe tbody tr th {\n",
       "        vertical-align: top;\n",
       "    }\n",
       "\n",
       "    .dataframe thead th {\n",
       "        text-align: right;\n",
       "    }\n",
       "</style>\n",
       "<table border=\"1\" class=\"dataframe\">\n",
       "  <thead>\n",
       "    <tr style=\"text-align: right;\">\n",
       "      <th></th>\n",
       "      <th>family_id</th>\n",
       "      <th>sequence_name</th>\n",
       "      <th>family_accession</th>\n",
       "      <th>aligned_sequence</th>\n",
       "      <th>sequence</th>\n",
       "    </tr>\n",
       "  </thead>\n",
       "  <tbody>\n",
       "    <tr>\n",
       "      <th>0</th>\n",
       "      <td>YfcL</td>\n",
       "      <td>Q5E3V0_VIBF1/3-85</td>\n",
       "      <td>PF08891.11</td>\n",
       "      <td>IEFEEKMLELIDARIESASD.DELFAGGYLRGHISLSVANCEEQGI...</td>\n",
       "      <td>IEFEEKMLELIDARIESASDDELFAGGYLRGHISLSVANCEEQGIN...</td>\n",
       "    </tr>\n",
       "    <tr>\n",
       "      <th>1</th>\n",
       "      <td>Somatomedin_B</td>\n",
       "      <td>F2UGX0_SALR5/258-297</td>\n",
       "      <td>PF01033.17</td>\n",
       "      <td>TTCAVRG...C..........SDINL......NQNCQCD.PSC.YS...</td>\n",
       "      <td>TTCAVRGCSDINLNQNCQCDPSCYSFGDCCADFAAVCESS</td>\n",
       "    </tr>\n",
       "    <tr>\n",
       "      <th>2</th>\n",
       "      <td>Surp</td>\n",
       "      <td>K7J3U9_NASVI/11-59</td>\n",
       "      <td>PF01805.20</td>\n",
       "      <td>RNIIDKLAQFVA..R..NG....P........EFEQMT.KNK.......</td>\n",
       "      <td>RNIIDKLAQFVARNGPEFEQMTKNKQKDNPKFSFLFGGEYFNYYQYKVT</td>\n",
       "    </tr>\n",
       "    <tr>\n",
       "      <th>3</th>\n",
       "      <td>DUF1230</td>\n",
       "      <td>E1ZG39_CHLVA/70-212</td>\n",
       "      <td>PF06799.11</td>\n",
       "      <td>.AVPREQRPVNELQQLKDTPLLAW......ATLDL..PQYAQRL.....</td>\n",
       "      <td>AVPREQRPVNELQQLKDTPLLAWATLDLPQYAQRLLILYGGVFLLL...</td>\n",
       "    </tr>\n",
       "    <tr>\n",
       "      <th>4</th>\n",
       "      <td>SRCR_2</td>\n",
       "      <td>F1NY88_CHICK/145-241</td>\n",
       "      <td>PF15494.6</td>\n",
       "      <td>GPNFILEVYSPVSQTWYPVCQDDWTDDFGKIACEDMGYN....VDT...</td>\n",
       "      <td>GPNFILEVYSPVSQTWYPVCQDDWTDDFGKIACEDMGYNVDTYYYS...</td>\n",
       "    </tr>\n",
       "  </tbody>\n",
       "</table>\n",
       "</div>"
      ],
      "text/plain": [
       "       family_id         sequence_name family_accession  \\\n",
       "0           YfcL     Q5E3V0_VIBF1/3-85       PF08891.11   \n",
       "1  Somatomedin_B  F2UGX0_SALR5/258-297       PF01033.17   \n",
       "2           Surp    K7J3U9_NASVI/11-59       PF01805.20   \n",
       "3        DUF1230   E1ZG39_CHLVA/70-212       PF06799.11   \n",
       "4         SRCR_2  F1NY88_CHICK/145-241        PF15494.6   \n",
       "\n",
       "                                    aligned_sequence  \\\n",
       "0  IEFEEKMLELIDARIESASD.DELFAGGYLRGHISLSVANCEEQGI...   \n",
       "1  TTCAVRG...C..........SDINL......NQNCQCD.PSC.YS...   \n",
       "2  RNIIDKLAQFVA..R..NG....P........EFEQMT.KNK.......   \n",
       "3  .AVPREQRPVNELQQLKDTPLLAW......ATLDL..PQYAQRL.....   \n",
       "4  GPNFILEVYSPVSQTWYPVCQDDWTDDFGKIACEDMGYN....VDT...   \n",
       "\n",
       "                                            sequence  \n",
       "0  IEFEEKMLELIDARIESASDDELFAGGYLRGHISLSVANCEEQGIN...  \n",
       "1           TTCAVRGCSDINLNQNCQCDPSCYSFGDCCADFAAVCESS  \n",
       "2  RNIIDKLAQFVARNGPEFEQMTKNKQKDNPKFSFLFGGEYFNYYQYKVT  \n",
       "3  AVPREQRPVNELQQLKDTPLLAWATLDLPQYAQRLLILYGGVFLLL...  \n",
       "4  GPNFILEVYSPVSQTWYPVCQDDWTDDFGKIACEDMGYNVDTYYYS...  "
      ]
     },
     "execution_count": 3,
     "metadata": {},
     "output_type": "execute_result"
    }
   ],
   "source": [
    "\"Checking out the headers\"\n",
    "\n",
    "df_train.head()\n"
   ]
  },
  {
   "cell_type": "code",
   "execution_count": 4,
   "id": "fc890ee8",
   "metadata": {
    "execution": {
     "iopub.execute_input": "2022-12-07T11:20:53.376748Z",
     "iopub.status.busy": "2022-12-07T11:20:53.376284Z",
     "iopub.status.idle": "2022-12-07T11:20:53.391448Z",
     "shell.execute_reply": "2022-12-07T11:20:53.389926Z"
    },
    "papermill": {
     "duration": 0.035445,
     "end_time": "2022-12-07T11:20:53.394376",
     "exception": false,
     "start_time": "2022-12-07T11:20:53.358931",
     "status": "completed"
    },
    "tags": []
   },
   "outputs": [
    {
     "data": {
      "text/html": [
       "<div>\n",
       "<style scoped>\n",
       "    .dataframe tbody tr th:only-of-type {\n",
       "        vertical-align: middle;\n",
       "    }\n",
       "\n",
       "    .dataframe tbody tr th {\n",
       "        vertical-align: top;\n",
       "    }\n",
       "\n",
       "    .dataframe thead th {\n",
       "        text-align: right;\n",
       "    }\n",
       "</style>\n",
       "<table border=\"1\" class=\"dataframe\">\n",
       "  <thead>\n",
       "    <tr style=\"text-align: right;\">\n",
       "      <th></th>\n",
       "      <th>family_id</th>\n",
       "      <th>sequence_name</th>\n",
       "      <th>family_accession</th>\n",
       "      <th>aligned_sequence</th>\n",
       "      <th>sequence</th>\n",
       "    </tr>\n",
       "  </thead>\n",
       "  <tbody>\n",
       "    <tr>\n",
       "      <th>0</th>\n",
       "      <td>Ank</td>\n",
       "      <td>Y502_TREPA/243-275</td>\n",
       "      <td>PF00023.30</td>\n",
       "      <td>NGQTALV..L................A...............V......</td>\n",
       "      <td>NGQTALVLAVGRKDHVLIRLLMDHGANPYLEDK</td>\n",
       "    </tr>\n",
       "    <tr>\n",
       "      <th>1</th>\n",
       "      <td>LrgB</td>\n",
       "      <td>R5LI56_9SPIR/16-230</td>\n",
       "      <td>PF04172.16</td>\n",
       "      <td>TLIAYIIS....YAIYIK.T.K...LPILTPLVTSAILVGFSL......</td>\n",
       "      <td>TLIAYIISYAIYIKTKLPILTPLVTSAILVGFSLYFMNIPYSVYNE...</td>\n",
       "    </tr>\n",
       "    <tr>\n",
       "      <th>2</th>\n",
       "      <td>Lzipper-MIP1</td>\n",
       "      <td>W1P7E2_AMBTC/726-807</td>\n",
       "      <td>PF14389.6</td>\n",
       "      <td>ALHERRLALE.....QDVARLQEQLQKERDLRALLE.AGL.........</td>\n",
       "      <td>ALHERRLALEQDVARLQEQLQKERDLRALLEAGLNMPSEGYAISSS...</td>\n",
       "    </tr>\n",
       "    <tr>\n",
       "      <th>3</th>\n",
       "      <td>DUF2922</td>\n",
       "      <td>A0Q3K1_CLONN/3-69</td>\n",
       "      <td>PF11148.8</td>\n",
       "      <td>KLLVMNFITNK.G..KKMNIKVKDIKPD......IEEETVAEVMNA...</td>\n",
       "      <td>KLLVMNFITNKGKKMNIKVKDIKPDIEEETVAEVMNAIIDKNVFLS...</td>\n",
       "    </tr>\n",
       "    <tr>\n",
       "      <th>4</th>\n",
       "      <td>2OG-Fe_Oxy_2</td>\n",
       "      <td>A5VC55_SPHWW/45-237</td>\n",
       "      <td>PF10014.9</td>\n",
       "      <td>AGSWERLGDDRFMADGGR......YRRRRHAVF.......AVGR.....</td>\n",
       "      <td>AGSWERLGDDRFMADGGRYRRRRHAVFAVGRDVVRKPHQPHYQSRD...</td>\n",
       "    </tr>\n",
       "  </tbody>\n",
       "</table>\n",
       "</div>"
      ],
      "text/plain": [
       "      family_id         sequence_name family_accession  \\\n",
       "0           Ank    Y502_TREPA/243-275       PF00023.30   \n",
       "1          LrgB   R5LI56_9SPIR/16-230       PF04172.16   \n",
       "2  Lzipper-MIP1  W1P7E2_AMBTC/726-807        PF14389.6   \n",
       "3       DUF2922     A0Q3K1_CLONN/3-69        PF11148.8   \n",
       "4  2OG-Fe_Oxy_2   A5VC55_SPHWW/45-237        PF10014.9   \n",
       "\n",
       "                                    aligned_sequence  \\\n",
       "0  NGQTALV..L................A...............V......   \n",
       "1  TLIAYIIS....YAIYIK.T.K...LPILTPLVTSAILVGFSL......   \n",
       "2  ALHERRLALE.....QDVARLQEQLQKERDLRALLE.AGL.........   \n",
       "3  KLLVMNFITNK.G..KKMNIKVKDIKPD......IEEETVAEVMNA...   \n",
       "4  AGSWERLGDDRFMADGGR......YRRRRHAVF.......AVGR.....   \n",
       "\n",
       "                                            sequence  \n",
       "0                  NGQTALVLAVGRKDHVLIRLLMDHGANPYLEDK  \n",
       "1  TLIAYIISYAIYIKTKLPILTPLVTSAILVGFSLYFMNIPYSVYNE...  \n",
       "2  ALHERRLALEQDVARLQEQLQKERDLRALLEAGLNMPSEGYAISSS...  \n",
       "3  KLLVMNFITNKGKKMNIKVKDIKPDIEEETVAEVMNAIIDKNVFLS...  \n",
       "4  AGSWERLGDDRFMADGGRYRRRRHAVFAVGRDVVRKPHQPHYQSRD...  "
      ]
     },
     "execution_count": 4,
     "metadata": {},
     "output_type": "execute_result"
    }
   ],
   "source": [
    "\"Checking out the headers\"\n",
    "\n",
    "df_val.head()\n"
   ]
  },
  {
   "cell_type": "code",
   "execution_count": 5,
   "id": "bf9174cd",
   "metadata": {
    "execution": {
     "iopub.execute_input": "2022-12-07T11:20:53.424336Z",
     "iopub.status.busy": "2022-12-07T11:20:53.423879Z",
     "iopub.status.idle": "2022-12-07T11:20:53.431925Z",
     "shell.execute_reply": "2022-12-07T11:20:53.430360Z"
    },
    "papermill": {
     "duration": 0.026084,
     "end_time": "2022-12-07T11:20:53.435059",
     "exception": false,
     "start_time": "2022-12-07T11:20:53.408975",
     "status": "completed"
    },
    "tags": []
   },
   "outputs": [
    {
     "name": "stdout",
     "output_type": "stream",
     "text": [
      "Dataset \"train\" has 1086741 sequences, fraction 0.811556 \n",
      "Dataset \"test\" has 126171 sequences, fraction 0.094222\n",
      "Dataset \"dev\" has 126171 sequences, fraction 0.094222 \n"
     ]
    }
   ],
   "source": [
    "\"The set split\"\n",
    "N_test=len(df_test)\n",
    "N_train=len(df_train)\n",
    "N_val=len(df_val)\n",
    "N_tot=N_test+N_train+N_val\n",
    "print('Dataset \"%s\" has %d sequences, fraction %f ' % ('train', N_train, N_train/N_tot))\n",
    "print('Dataset \"%s\" has %d sequences, fraction %f' % ('test', N_test, N_test/N_tot))\n",
    "print('Dataset \"%s\" has %d sequences, fraction %f ' % ('dev', N_val, N_val/N_tot))\n",
    "\n",
    "\n"
   ]
  },
  {
   "cell_type": "markdown",
   "id": "bbfff442",
   "metadata": {
    "papermill": {
     "duration": 0.013988,
     "end_time": "2022-12-07T11:20:53.463311",
     "exception": false,
     "start_time": "2022-12-07T11:20:53.449323",
     "status": "completed"
    },
    "tags": []
   },
   "source": [
    "**Questions for initial exploration of data**\n",
    "1. Are there duplicates? \n",
    "\n",
    "In this data volume, a small amount of duplicates does not hurt that much\n",
    "\n",
    "2. How many unique pfams there are? How is the number of samples distributed and are there rare families? \n",
    "\n",
    "If there are families with only few examples, they are hard to predict. If there are few families where overwhelming amount of examples, the prediction will be weighted towards them and data balancing or some weighting scheme is needed. Number of classes to predict implies the model complexity.\n",
    "\n",
    "3. Sequence information content. What is the lenght range of sequences? How common are the rare amino acids & unknowns. Do their precence determine the pfam?\n",
    "\n",
    "If considered lenght can be reduced it helps with memory & model size. If number of considered aminos can be reduced it helps with data volume too. It might also be fun to explore whether the sequence lenght ranges correlate on the amount examples from the family, but that is likely less crucial for the problem in hand.\n"
   ]
  },
  {
   "cell_type": "code",
   "execution_count": 6,
   "id": "c48d5fba",
   "metadata": {
    "execution": {
     "iopub.execute_input": "2022-12-07T11:20:53.493498Z",
     "iopub.status.busy": "2022-12-07T11:20:53.492546Z",
     "iopub.status.idle": "2022-12-07T11:20:56.041486Z",
     "shell.execute_reply": "2022-12-07T11:20:56.040168Z"
    },
    "papermill": {
     "duration": 2.566726,
     "end_time": "2022-12-07T11:20:56.044236",
     "exception": false,
     "start_time": "2022-12-07T11:20:53.477510",
     "status": "completed"
    },
    "tags": []
   },
   "outputs": [
    {
     "name": "stdout",
     "output_type": "stream",
     "text": [
      "0\n"
     ]
    },
    {
     "data": {
      "text/plain": [
       "659"
      ]
     },
     "execution_count": 6,
     "metadata": {},
     "output_type": "execute_result"
    }
   ],
   "source": [
    "\"See if some sequences have full sequence name duplicates\"\n",
    "print(len(df_train.sequence_name.value_counts())-N_train)\n",
    "\n",
    "\"See if some sequences have full unaligned sequence duplicates\"\n",
    "sum(df_train.sequence.value_counts().loc[lambda x : x>1])"
   ]
  },
  {
   "cell_type": "code",
   "execution_count": 7,
   "id": "87a0f305",
   "metadata": {
    "execution": {
     "iopub.execute_input": "2022-12-07T11:20:56.072250Z",
     "iopub.status.busy": "2022-12-07T11:20:56.071842Z",
     "iopub.status.idle": "2022-12-07T11:20:56.188085Z",
     "shell.execute_reply": "2022-12-07T11:20:56.187118Z"
    },
    "papermill": {
     "duration": 0.133835,
     "end_time": "2022-12-07T11:20:56.191265",
     "exception": false,
     "start_time": "2022-12-07T11:20:56.057430",
     "status": "completed"
    },
    "tags": []
   },
   "outputs": [
    {
     "name": "stdout",
     "output_type": "stream",
     "text": [
      "             family_id         sequence_name family_accession  \\\n",
      "10372  gag_pre-integrs  Q8H7V4_ORYSJ/406-474        PF13976.6   \n",
      "7689   gag_pre-integrs  B9GAB8_ORYSJ/146-214        PF13976.6   \n",
      "4713   gag_pre-integrs  Q75IE4_ORYSJ/406-474        PF13976.6   \n",
      "994    gag_pre-integrs  Q10JD1_ORYSJ/622-690        PF13976.6   \n",
      "4699   gag_pre-integrs  Q2QXX1_ORYSJ/199-267        PF13976.6   \n",
      "956    gag_pre-integrs  Q6AUM4_ORYSJ/820-888        PF13976.6   \n",
      "6852   gag_pre-integrs  Q6AT91_ORYSJ/406-474        PF13976.6   \n",
      "5450   gag_pre-integrs  Q10H09_ORYSJ/483-551        PF13976.6   \n",
      "2045   gag_pre-integrs  Q7XP54_ORYSJ/406-474        PF13976.6   \n",
      "709    gag_pre-integrs  Q2QSL1_ORYSJ/406-474        PF13976.6   \n",
      "6154   gag_pre-integrs  Q10CN4_ORYSJ/406-474        PF13976.6   \n",
      "8541   gag_pre-integrs  Q53KA0_ORYSJ/406-474        PF13976.6   \n",
      "12352  gag_pre-integrs  Q6AUM3_ORYSJ/406-474        PF13976.6   \n",
      "12095  gag_pre-integrs  Q2QP37_ORYSJ/367-435        PF13976.6   \n",
      "10208  gag_pre-integrs  Q7XM54_ORYSJ/406-474        PF13976.6   \n",
      "12938  gag_pre-integrs  Q6F2M4_ORYSJ/406-474        PF13976.6   \n",
      "6807   gag_pre-integrs  Q53MS6_ORYSJ/406-474        PF13976.6   \n",
      "9120   gag_pre-integrs  Q65XF0_ORYSJ/495-563        PF13976.6   \n",
      "5821   gag_pre-integrs  Q2QW94_ORYSJ/313-381        PF13976.6   \n",
      "728    gag_pre-integrs  Q75J10_ORYSJ/406-474        PF13976.6   \n",
      "8873   gag_pre-integrs  Q75I44_ORYSJ/483-551        PF13976.6   \n",
      "3982   gag_pre-integrs  Q60E18_ORYSJ/406-474        PF13976.6   \n",
      "5992   gag_pre-integrs  Q2QVN8_ORYSJ/493-561        PF13976.6   \n",
      "4500   gag_pre-integrs  Q7XML8_ORYSJ/406-474        PF13976.6   \n",
      "7687   gag_pre-integrs  Q2QY02_ORYSJ/277-345        PF13976.6   \n",
      "6381   gag_pre-integrs  Q84ME8_ORYSJ/406-474        PF13976.6   \n",
      "10739  gag_pre-integrs  Q53MY0_ORYSJ/406-474        PF13976.6   \n",
      "9685   gag_pre-integrs  Q2QMW4_ORYSJ/891-959        PF13976.6   \n",
      "155    gag_pre-integrs  Q6L5B9_ORYSJ/406-474        PF13976.6   \n",
      "2318   gag_pre-integrs  Q2RAX6_ORYSJ/601-669        PF13976.6   \n",
      "2940   gag_pre-integrs  Q9FW32_ORYSJ/406-474        PF13976.6   \n",
      "4038   gag_pre-integrs  Q2RB67_ORYSJ/406-474        PF13976.6   \n",
      "\n",
      "                                        aligned_sequence  \\\n",
      "10372  GLFRF..SL..........S....D.F...C.N...........K....   \n",
      "7689   GLFRF..SL..........S....D.F...C.N...........K....   \n",
      "4713   GLFRF..SL..........S....D.F...C.N...........K....   \n",
      "994    GLFRF..SL..........S....D.F...C.N...........K....   \n",
      "4699   GLFRF..SL..........S....D.F...C.N...........K....   \n",
      "956    GLFRF..SL..........S....D.F...C.N...........K....   \n",
      "6852   GLFRF..SL..........S....D.F...C.N...........K....   \n",
      "5450   GLFRF..SL..........S....D.F...C.N...........K....   \n",
      "2045   GLFRF..SL..........S....D.F...C.N...........K....   \n",
      "709    GLFRF..SL..........S....D.F...C.N...........K....   \n",
      "6154   GLFRF..SL..........S....D.F...C.N...........K....   \n",
      "8541   GLFRF..SL..........S....D.F...C.N...........K....   \n",
      "12352  GLFRF..SL..........S....D.F...C.N...........K....   \n",
      "12095  GLFRF..SL..........S....D.F...C.N...........K....   \n",
      "10208  GLFRF..SL..........S....D.F...C.N...........K....   \n",
      "12938  GLFRF..SL..........S....D.F...C.N...........K....   \n",
      "6807   GLFRF..SL..........S....D.F...C.N...........K....   \n",
      "9120   GLFRF..SL..........S....D.F...C.N...........K....   \n",
      "5821   GLFRF..SL..........S....D.F...C.N...........KS...   \n",
      "728    GLFRF..SL..........S....D.F...C.N...........K....   \n",
      "8873   GLFRF..SL..........S....D.F...C.N...........K....   \n",
      "3982   GLFRF..SL..........S....D.F...C.N...........K....   \n",
      "5992   GLFRF..SL..........S....D.F...C.N...........K....   \n",
      "4500   GLFRF..SL..........S....D.F...C.N...........K....   \n",
      "7687   GLFRF..SL..........S....D.F...C.N...........K....   \n",
      "6381   GLFRF..SL..........S....D.F...C.N...........K....   \n",
      "10739  GLFRF..SL..........S....D.F...C.N...........K....   \n",
      "9685   GLFRF..SL..........S....D.F...C.N...........K....   \n",
      "155    GLFRF..SL..........S....D.F...C.N...........K....   \n",
      "2318   GLFRF..SL..........S....D.F...C.N...........K....   \n",
      "2940   GLFRF..SL..........S....D.F...C.N...........K....   \n",
      "4038   GLFRF..SL..........S....D.F...C.N...........K....   \n",
      "\n",
      "                                                sequence  \n",
      "10372  GLFRFSLSDFCNKSVNHICGSVDDEANVWHSRLCHINFGLMSRLSS...  \n",
      "7689   GLFRFSLSDFCNKSVNHICGSVDDEANVWHSRLCHINFGLMSRLSS...  \n",
      "4713   GLFRFSLSDFCNKSVNHICGSVDDEANVWHSRLCHINFGLMSRLSS...  \n",
      "994    GLFRFSLSDFCNKSVNHICGSVDDEANVWHSRLCHINFGLMSRLSS...  \n",
      "4699   GLFRFSLSDFCNKSVNHICGSVDDEANVWHSRLCHINFGLMSRLSS...  \n",
      "956    GLFRFSLSDFCNKSVNHICGSVDDEANVWHSRLCHINFGLMSRLSS...  \n",
      "6852   GLFRFSLSDFCNKSVNHICGSVDDEANVWHSRLCHINFGLMSRLSS...  \n",
      "5450   GLFRFSLSDFCNKSVNHICGSVDDEANVWHSRLCHINFGLMSRLSS...  \n",
      "2045   GLFRFSLSDFCNKSVNHICGSVDDEANVWHSRLCHINFGLMSRLSS...  \n",
      "709    GLFRFSLSDFCNKSVNHICGSVDDEANVWHSRLCHINFGLMSRLSS...  \n",
      "6154   GLFRFSLSDFCNKSVNHICGSVDDEANVWHSRLCHINFGLMSRLSS...  \n",
      "8541   GLFRFSLSDFCNKSVNHICGSVDDEANVWHSRLCHINFGLMSRLSS...  \n",
      "12352  GLFRFSLSDFCNKSVNHICGSVDDEANVWHSRLCHINFGLMSRLSS...  \n",
      "12095  GLFRFSLSDFCNKSVNHICGSVDDEANVWHSRLCHINFGLMSRLSS...  \n",
      "10208  GLFRFSLSDFCNKSVNHICGSVDDEANVWHSRLCHINFGLMSRLSS...  \n",
      "12938  GLFRFSLSDFCNKSVNHICGSVDDEANVWHSRLCHINFGLMSRLSS...  \n",
      "6807   GLFRFSLSDFCNKSVNHICGSVDDEANVWHSRLCHINFGLMSRLSS...  \n",
      "9120   GLFRFSLSDFCNKSVNHICGSVDDEANVWHSRLCHINFGLMSRLSS...  \n",
      "5821   GLFRFSLSDFCNKSVNHICGSVDDEANVWHSRLCHINFGLMSRLSS...  \n",
      "728    GLFRFSLSDFCNKSVNHICGSVDDEANVWHSRLCHINFGLMSRLSS...  \n",
      "8873   GLFRFSLSDFCNKSVNHICGSVDDEANVWHSRLCHINFGLMSRLSS...  \n",
      "3982   GLFRFSLSDFCNKSVNHICGSVDDEANVWHSRLCHINFGLMSRLSS...  \n",
      "5992   GLFRFSLSDFCNKSVNHICGSVDDEANVWHSRLCHINFGLMSRLSS...  \n",
      "4500   GLFRFSLSDFCNKSVNHICGSVDDEANVWHSRLCHINFGLMSRLSS...  \n",
      "7687   GLFRFSLSDFCNKSVNHICGSVDDEANVWHSRLCHINFGLMSRLSS...  \n",
      "6381   GLFRFSLSDFCNKSVNHICGSVDDEANVWHSRLCHINFGLMSRLSS...  \n",
      "10739  GLFRFSLSDFCNKSVNHICGSVDDEANVWHSRLCHINFGLMSRLSS...  \n",
      "9685   GLFRFSLSDFCNKSVNHICGSVDDEANVWHSRLCHINFGLMSRLSS...  \n",
      "155    GLFRFSLSDFCNKSVNHICGSVDDEANVWHSRLCHINFGLMSRLSS...  \n",
      "2318   GLFRFSLSDFCNKSVNHICGSVDDEANVWHSRLCHINFGLMSRLSS...  \n",
      "2940   GLFRFSLSDFCNKSVNHICGSVDDEANVWHSRLCHINFGLMSRLSS...  \n",
      "4038   GLFRFSLSDFCNKSVNHICGSVDDEANVWHSRLCHINFGLMSRLSS...  \n"
     ]
    }
   ],
   "source": [
    "\"There are some, although not significant amount, lets see how they differ\"\n",
    "\n",
    "print(df_train.loc[df_train['sequence']=='GLFRFSLSDFCNKSVNHICGSVDDEANVWHSRLCHINFGLMSRLSSMCLIPKFSIVKGSKCHSCVQSKQ'])"
   ]
  },
  {
   "cell_type": "code",
   "execution_count": 8,
   "id": "07881a2e",
   "metadata": {
    "execution": {
     "iopub.execute_input": "2022-12-07T11:20:56.221671Z",
     "iopub.status.busy": "2022-12-07T11:20:56.221178Z",
     "iopub.status.idle": "2022-12-07T11:20:57.973600Z",
     "shell.execute_reply": "2022-12-07T11:20:57.972283Z"
    },
    "papermill": {
     "duration": 1.771646,
     "end_time": "2022-12-07T11:20:57.976557",
     "exception": false,
     "start_time": "2022-12-07T11:20:56.204911",
     "status": "completed"
    },
    "tags": []
   },
   "outputs": [
    {
     "name": "stdout",
     "output_type": "stream",
     "text": [
      "Unique pfams in Train:  17929\n",
      "Unique pfams in Val:  13071\n",
      "Unique pfams in Test:  13071\n"
     ]
    }
   ],
   "source": [
    "\"The number of unique families\"\n",
    "print('Unique pfams in Train: ', len(np.unique(df_train['family_accession'].values)))\n",
    "print('Unique pfams in Val: ', len(np.unique(df_val['family_accession'].values)))\n",
    "print('Unique pfams in Test: ', len(np.unique(df_test['family_accession'].values)))\n"
   ]
  },
  {
   "cell_type": "markdown",
   "id": "2f9271b3",
   "metadata": {
    "papermill": {
     "duration": 0.013377,
     "end_time": "2022-12-07T11:20:58.003510",
     "exception": false,
     "start_time": "2022-12-07T11:20:57.990133",
     "status": "completed"
    },
    "tags": []
   },
   "source": [
    "It seems that there are at least ~5k pfams in the training set which are not in the other two datasets"
   ]
  },
  {
   "cell_type": "code",
   "execution_count": 9,
   "id": "59588502",
   "metadata": {
    "execution": {
     "iopub.execute_input": "2022-12-07T11:20:58.033210Z",
     "iopub.status.busy": "2022-12-07T11:20:58.032287Z",
     "iopub.status.idle": "2022-12-07T11:20:58.202346Z",
     "shell.execute_reply": "2022-12-07T11:20:58.201029Z"
    },
    "papermill": {
     "duration": 0.18783,
     "end_time": "2022-12-07T11:20:58.204931",
     "exception": false,
     "start_time": "2022-12-07T11:20:58.017101",
     "status": "completed"
    },
    "tags": []
   },
   "outputs": [
    {
     "data": {
      "text/plain": [
       "PF08837.11    99\n",
       "PF01783.23    99\n",
       "PF13874.6     99\n",
       "PF17745.1     99\n",
       "PF13664.6     99\n",
       "              ..\n",
       "PF18355.1      1\n",
       "PF17531.2      1\n",
       "PF03503.13     1\n",
       "PF17609.2      1\n",
       "PF17632.2      1\n",
       "Name: family_accession, Length: 15161, dtype: int64"
      ]
     },
     "execution_count": 9,
     "metadata": {},
     "output_type": "execute_result"
    }
   ],
   "source": [
    "\"Are there rare families? Printing here the families smaller than 100.\"\n",
    "df_train.family_accession.value_counts().loc[lambda x : x<100]"
   ]
  },
  {
   "cell_type": "code",
   "execution_count": 10,
   "id": "54e37a6b",
   "metadata": {
    "execution": {
     "iopub.execute_input": "2022-12-07T11:20:58.233907Z",
     "iopub.status.busy": "2022-12-07T11:20:58.233501Z",
     "iopub.status.idle": "2022-12-07T11:21:00.838555Z",
     "shell.execute_reply": "2022-12-07T11:21:00.837220Z"
    },
    "papermill": {
     "duration": 2.623003,
     "end_time": "2022-12-07T11:21:00.841557",
     "exception": false,
     "start_time": "2022-12-07T11:20:58.218554",
     "status": "completed"
    },
    "tags": []
   },
   "outputs": [
    {
     "data": {
      "text/plain": [
       "180"
      ]
     },
     "execution_count": 10,
     "metadata": {},
     "output_type": "execute_result"
    },
    {
     "data": {
      "image/png": "[encoded data removed]",
      "text/plain": [
       "<Figure size 1440x504 with 1 Axes>"
      ]
     },
     "metadata": {
      "needs_background": "light"
     },
     "output_type": "display_data"
    }
   ],
   "source": [
    "\"Lets visualize the percentages data in common pfams in each dataset\"\n",
    "\n",
    "\"Selecting range of visualisation, here example for 100 most common pfams in train\"\n",
    "labels = df_train.family_accession.value_counts()[0:100]\n",
    "\n",
    "\"Grabbing the data for those labels\"\n",
    "mask = df_train.family_accession.isin(labels.index.values)\n",
    "train_sm = df_train.loc[mask,:]\n",
    "\n",
    "mask = df_val.family_accession.isin(labels.index.values)\n",
    "val_sm = df_val.loc[mask,:]\n",
    "\n",
    "mask = df_test.family_accession.isin(labels.index.values)\n",
    "test_sm = df_test.loc[mask,:]\n",
    "\n",
    "\n",
    "\"plotting the percentages of samples within the selected pfams for each dataset\"\n",
    "Counts = pd.concat([pd.DataFrame(train_sm.family_accession.value_counts()/N_train), \n",
    "           pd.DataFrame(val_sm.family_accession.value_counts()/N_val), \n",
    "           pd.DataFrame(test_sm.family_accession.value_counts()/N_test)], \n",
    "          axis=1)\n",
    "Counts.columns = ['train samples', 'dev samples', 'test samples']\n",
    "Counts.plot.bar(figsize = (20,7), fontsize = 10)\n",
    "\n",
    "#memory cleaning\n",
    "\n",
    "del test_sm, train_sm, val_sm\n",
    "gc.collect()\n"
   ]
  },
  {
   "cell_type": "markdown",
   "id": "27c00330",
   "metadata": {
    "papermill": {
     "duration": 0.013903,
     "end_time": "2022-12-07T11:21:00.870055",
     "exception": false,
     "start_time": "2022-12-07T11:21:00.856152",
     "status": "completed"
    },
    "tags": []
   },
   "source": [
    "Most common pfams seem to be present in all datasets and have similar sample distribution. The most common pfam has almost twice as many samples as in the next most common. Other than that the distribution is quite flat locally."
   ]
  },
  {
   "cell_type": "code",
   "execution_count": 11,
   "id": "232e88b1",
   "metadata": {
    "execution": {
     "iopub.execute_input": "2022-12-07T11:21:00.901286Z",
     "iopub.status.busy": "2022-12-07T11:21:00.900851Z",
     "iopub.status.idle": "2022-12-07T11:21:01.708585Z",
     "shell.execute_reply": "2022-12-07T11:21:01.707366Z"
    },
    "papermill": {
     "duration": 0.826799,
     "end_time": "2022-12-07T11:21:01.711193",
     "exception": false,
     "start_time": "2022-12-07T11:21:00.884394",
     "status": "completed"
    },
    "tags": []
   },
   "outputs": [
    {
     "data": {
      "text/html": [
       "<div>\n",
       "<style scoped>\n",
       "    .dataframe tbody tr th:only-of-type {\n",
       "        vertical-align: middle;\n",
       "    }\n",
       "\n",
       "    .dataframe tbody tr th {\n",
       "        vertical-align: top;\n",
       "    }\n",
       "\n",
       "    .dataframe thead th {\n",
       "        text-align: right;\n",
       "    }\n",
       "</style>\n",
       "<table border=\"1\" class=\"dataframe\">\n",
       "  <thead>\n",
       "    <tr style=\"text-align: right;\">\n",
       "      <th></th>\n",
       "      <th>containing_amino</th>\n",
       "      <th>family_freq</th>\n",
       "      <th>amino_containg_fraction</th>\n",
       "    </tr>\n",
       "  </thead>\n",
       "  <tbody>\n",
       "    <tr>\n",
       "      <th>PF00042.22</th>\n",
       "      <td>2</td>\n",
       "      <td>59</td>\n",
       "      <td>0.033898</td>\n",
       "    </tr>\n",
       "    <tr>\n",
       "      <th>PF04583.12</th>\n",
       "      <td>1</td>\n",
       "      <td>8</td>\n",
       "      <td>0.125000</td>\n",
       "    </tr>\n",
       "  </tbody>\n",
       "</table>\n",
       "</div>"
      ],
      "text/plain": [
       "            containing_amino  family_freq  amino_containg_fraction\n",
       "PF00042.22                 2           59                 0.033898\n",
       "PF04583.12                 1            8                 0.125000"
      ]
     },
     "execution_count": 11,
     "metadata": {},
     "output_type": "execute_result"
    }
   ],
   "source": [
    "\"Lets explore if the rare amino acids and unknowns are distributed in families\"\n",
    "def get_amino_freq(df, aminoname):\n",
    "    amino_labels=df_train[df_train['sequence'].str.contains(aminoname)].family_accession.value_counts()\n",
    "    mask = df_train.family_accession.isin(amino_labels.index.values)\n",
    "    train_amino_counts = df_train.loc[mask,:].family_accession.value_counts()\n",
    "    amino_data=pd.concat( \n",
    "               [pd.DataFrame(amino_labels), \n",
    "               pd.DataFrame(train_amino_counts)], \n",
    "              axis=1)\n",
    "    amino_data.columns = ['containing_amino', 'family_freq']\n",
    "    amino_data['amino_containg_fraction']= amino_data.apply(lambda row: row['containing_amino']/row['family_freq'], axis=1)\n",
    "    return amino_data\n",
    "\"printing the out the amino containing how many of the sequences if pfam contain the amino, the pfam sample size, and fraction of those containing the amino\"\n",
    "get_amino_freq(df_test, 'Z')                                                                                                                                                                                                 "
   ]
  },
  {
   "cell_type": "code",
   "execution_count": 12,
   "id": "fb5b540e",
   "metadata": {
    "execution": {
     "iopub.execute_input": "2022-12-07T11:21:01.742208Z",
     "iopub.status.busy": "2022-12-07T11:21:01.741755Z",
     "iopub.status.idle": "2022-12-07T11:21:02.444202Z",
     "shell.execute_reply": "2022-12-07T11:21:02.443254Z"
    },
    "papermill": {
     "duration": 0.72103,
     "end_time": "2022-12-07T11:21:02.446661",
     "exception": false,
     "start_time": "2022-12-07T11:21:01.725631",
     "status": "completed"
    },
    "tags": []
   },
   "outputs": [
    {
     "data": {
      "text/html": [
       "<div>\n",
       "<style scoped>\n",
       "    .dataframe tbody tr th:only-of-type {\n",
       "        vertical-align: middle;\n",
       "    }\n",
       "\n",
       "    .dataframe tbody tr th {\n",
       "        vertical-align: top;\n",
       "    }\n",
       "\n",
       "    .dataframe thead th {\n",
       "        text-align: right;\n",
       "    }\n",
       "</style>\n",
       "<table border=\"1\" class=\"dataframe\">\n",
       "  <thead>\n",
       "    <tr style=\"text-align: right;\">\n",
       "      <th></th>\n",
       "      <th>containing_amino</th>\n",
       "      <th>family_freq</th>\n",
       "      <th>amino_containg_fraction</th>\n",
       "    </tr>\n",
       "  </thead>\n",
       "  <tbody>\n",
       "    <tr>\n",
       "      <th>PF13976.6</th>\n",
       "      <td>80</td>\n",
       "      <td>867</td>\n",
       "      <td>0.092272</td>\n",
       "    </tr>\n",
       "    <tr>\n",
       "      <th>PF08705.11</th>\n",
       "      <td>11</td>\n",
       "      <td>104</td>\n",
       "      <td>0.105769</td>\n",
       "    </tr>\n",
       "    <tr>\n",
       "      <th>PF06022.11</th>\n",
       "      <td>10</td>\n",
       "      <td>441</td>\n",
       "      <td>0.022676</td>\n",
       "    </tr>\n",
       "    <tr>\n",
       "      <th>PF01384.20</th>\n",
       "      <td>5</td>\n",
       "      <td>745</td>\n",
       "      <td>0.006711</td>\n",
       "    </tr>\n",
       "    <tr>\n",
       "      <th>PF00141.23</th>\n",
       "      <td>5</td>\n",
       "      <td>128</td>\n",
       "      <td>0.039062</td>\n",
       "    </tr>\n",
       "    <tr>\n",
       "      <th>...</th>\n",
       "      <td>...</td>\n",
       "      <td>...</td>\n",
       "      <td>...</td>\n",
       "    </tr>\n",
       "    <tr>\n",
       "      <th>PF00579.25</th>\n",
       "      <td>1</td>\n",
       "      <td>31</td>\n",
       "      <td>0.032258</td>\n",
       "    </tr>\n",
       "    <tr>\n",
       "      <th>PF05820.11</th>\n",
       "      <td>1</td>\n",
       "      <td>6</td>\n",
       "      <td>0.166667</td>\n",
       "    </tr>\n",
       "    <tr>\n",
       "      <th>PF11709.8</th>\n",
       "      <td>1</td>\n",
       "      <td>58</td>\n",
       "      <td>0.017241</td>\n",
       "    </tr>\n",
       "    <tr>\n",
       "      <th>PF02676.14</th>\n",
       "      <td>1</td>\n",
       "      <td>119</td>\n",
       "      <td>0.008403</td>\n",
       "    </tr>\n",
       "    <tr>\n",
       "      <th>PF11955.8</th>\n",
       "      <td>1</td>\n",
       "      <td>89</td>\n",
       "      <td>0.011236</td>\n",
       "    </tr>\n",
       "  </tbody>\n",
       "</table>\n",
       "<p>525 rows × 3 columns</p>\n",
       "</div>"
      ],
      "text/plain": [
       "            containing_amino  family_freq  amino_containg_fraction\n",
       "PF13976.6                 80          867                 0.092272\n",
       "PF08705.11                11          104                 0.105769\n",
       "PF06022.11                10          441                 0.022676\n",
       "PF01384.20                 5          745                 0.006711\n",
       "PF00141.23                 5          128                 0.039062\n",
       "...                      ...          ...                      ...\n",
       "PF00579.25                 1           31                 0.032258\n",
       "PF05820.11                 1            6                 0.166667\n",
       "PF11709.8                  1           58                 0.017241\n",
       "PF02676.14                 1          119                 0.008403\n",
       "PF11955.8                  1           89                 0.011236\n",
       "\n",
       "[525 rows x 3 columns]"
      ]
     },
     "execution_count": 12,
     "metadata": {},
     "output_type": "execute_result"
    }
   ],
   "source": [
    "get_amino_freq(df_test, 'X')"
   ]
  },
  {
   "cell_type": "code",
   "execution_count": 13,
   "id": "37f10372",
   "metadata": {
    "execution": {
     "iopub.execute_input": "2022-12-07T11:21:02.478897Z",
     "iopub.status.busy": "2022-12-07T11:21:02.478468Z",
     "iopub.status.idle": "2022-12-07T11:21:03.135429Z",
     "shell.execute_reply": "2022-12-07T11:21:03.134274Z"
    },
    "papermill": {
     "duration": 0.675601,
     "end_time": "2022-12-07T11:21:03.137921",
     "exception": false,
     "start_time": "2022-12-07T11:21:02.462320",
     "status": "completed"
    },
    "tags": []
   },
   "outputs": [
    {
     "data": {
      "text/html": [
       "<div>\n",
       "<style scoped>\n",
       "    .dataframe tbody tr th:only-of-type {\n",
       "        vertical-align: middle;\n",
       "    }\n",
       "\n",
       "    .dataframe tbody tr th {\n",
       "        vertical-align: top;\n",
       "    }\n",
       "\n",
       "    .dataframe thead th {\n",
       "        text-align: right;\n",
       "    }\n",
       "</style>\n",
       "<table border=\"1\" class=\"dataframe\">\n",
       "  <thead>\n",
       "    <tr style=\"text-align: right;\">\n",
       "      <th></th>\n",
       "      <th>containing_amino</th>\n",
       "      <th>family_freq</th>\n",
       "      <th>amino_containg_fraction</th>\n",
       "    </tr>\n",
       "  </thead>\n",
       "  <tbody>\n",
       "    <tr>\n",
       "      <th>PF02662.16</th>\n",
       "      <td>27</td>\n",
       "      <td>188</td>\n",
       "      <td>0.143617</td>\n",
       "    </tr>\n",
       "    <tr>\n",
       "      <th>PF10262.9</th>\n",
       "      <td>20</td>\n",
       "      <td>211</td>\n",
       "      <td>0.094787</td>\n",
       "    </tr>\n",
       "    <tr>\n",
       "      <th>PF04723.14</th>\n",
       "      <td>12</td>\n",
       "      <td>13</td>\n",
       "      <td>0.923077</td>\n",
       "    </tr>\n",
       "    <tr>\n",
       "      <th>PF08806.11</th>\n",
       "      <td>5</td>\n",
       "      <td>32</td>\n",
       "      <td>0.156250</td>\n",
       "    </tr>\n",
       "    <tr>\n",
       "      <th>PF04593.14</th>\n",
       "      <td>3</td>\n",
       "      <td>3</td>\n",
       "      <td>1.000000</td>\n",
       "    </tr>\n",
       "    <tr>\n",
       "      <th>PF00837.17</th>\n",
       "      <td>3</td>\n",
       "      <td>3</td>\n",
       "      <td>1.000000</td>\n",
       "    </tr>\n",
       "    <tr>\n",
       "      <th>PF00255.19</th>\n",
       "      <td>3</td>\n",
       "      <td>8</td>\n",
       "      <td>0.375000</td>\n",
       "    </tr>\n",
       "    <tr>\n",
       "      <th>PF00578.21</th>\n",
       "      <td>2</td>\n",
       "      <td>78</td>\n",
       "      <td>0.025641</td>\n",
       "    </tr>\n",
       "    <tr>\n",
       "      <th>PF01641.18</th>\n",
       "      <td>2</td>\n",
       "      <td>769</td>\n",
       "      <td>0.002601</td>\n",
       "    </tr>\n",
       "    <tr>\n",
       "      <th>PF04592.14</th>\n",
       "      <td>1</td>\n",
       "      <td>9</td>\n",
       "      <td>0.111111</td>\n",
       "    </tr>\n",
       "    <tr>\n",
       "      <th>PF01250.17</th>\n",
       "      <td>1</td>\n",
       "      <td>711</td>\n",
       "      <td>0.001406</td>\n",
       "    </tr>\n",
       "    <tr>\n",
       "      <th>PF00384.22</th>\n",
       "      <td>1</td>\n",
       "      <td>26</td>\n",
       "      <td>0.038462</td>\n",
       "    </tr>\n",
       "    <tr>\n",
       "      <th>PF01035.20</th>\n",
       "      <td>1</td>\n",
       "      <td>1345</td>\n",
       "      <td>0.000743</td>\n",
       "    </tr>\n",
       "    <tr>\n",
       "      <th>PF03747.14</th>\n",
       "      <td>1</td>\n",
       "      <td>620</td>\n",
       "      <td>0.001613</td>\n",
       "    </tr>\n",
       "    <tr>\n",
       "      <th>PF08984.11</th>\n",
       "      <td>1</td>\n",
       "      <td>153</td>\n",
       "      <td>0.006536</td>\n",
       "    </tr>\n",
       "    <tr>\n",
       "      <th>PF03972.14</th>\n",
       "      <td>1</td>\n",
       "      <td>185</td>\n",
       "      <td>0.005405</td>\n",
       "    </tr>\n",
       "    <tr>\n",
       "      <th>PF12345.8</th>\n",
       "      <td>1</td>\n",
       "      <td>106</td>\n",
       "      <td>0.009434</td>\n",
       "    </tr>\n",
       "    <tr>\n",
       "      <th>PF10050.9</th>\n",
       "      <td>1</td>\n",
       "      <td>84</td>\n",
       "      <td>0.011905</td>\n",
       "    </tr>\n",
       "    <tr>\n",
       "      <th>PF01106.17</th>\n",
       "      <td>1</td>\n",
       "      <td>438</td>\n",
       "      <td>0.002283</td>\n",
       "    </tr>\n",
       "  </tbody>\n",
       "</table>\n",
       "</div>"
      ],
      "text/plain": [
       "            containing_amino  family_freq  amino_containg_fraction\n",
       "PF02662.16                27          188                 0.143617\n",
       "PF10262.9                 20          211                 0.094787\n",
       "PF04723.14                12           13                 0.923077\n",
       "PF08806.11                 5           32                 0.156250\n",
       "PF04593.14                 3            3                 1.000000\n",
       "PF00837.17                 3            3                 1.000000\n",
       "PF00255.19                 3            8                 0.375000\n",
       "PF00578.21                 2           78                 0.025641\n",
       "PF01641.18                 2          769                 0.002601\n",
       "PF04592.14                 1            9                 0.111111\n",
       "PF01250.17                 1          711                 0.001406\n",
       "PF00384.22                 1           26                 0.038462\n",
       "PF01035.20                 1         1345                 0.000743\n",
       "PF03747.14                 1          620                 0.001613\n",
       "PF08984.11                 1          153                 0.006536\n",
       "PF03972.14                 1          185                 0.005405\n",
       "PF12345.8                  1          106                 0.009434\n",
       "PF10050.9                  1           84                 0.011905\n",
       "PF01106.17                 1          438                 0.002283"
      ]
     },
     "execution_count": 13,
     "metadata": {},
     "output_type": "execute_result"
    }
   ],
   "source": [
    "get_amino_freq(df_test, 'U')"
   ]
  },
  {
   "cell_type": "code",
   "execution_count": 14,
   "id": "f4d73ef6",
   "metadata": {
    "execution": {
     "iopub.execute_input": "2022-12-07T11:21:03.170897Z",
     "iopub.status.busy": "2022-12-07T11:21:03.170460Z",
     "iopub.status.idle": "2022-12-07T11:21:12.525009Z",
     "shell.execute_reply": "2022-12-07T11:21:12.523748Z"
    },
    "papermill": {
     "duration": 9.374546,
     "end_time": "2022-12-07T11:21:12.527922",
     "exception": false,
     "start_time": "2022-12-07T11:21:03.153376",
     "status": "completed"
    },
    "tags": []
   },
   "outputs": [
    {
     "data": {
      "image/png": "[encoded data removed]",
      "text/plain": [
       "<Figure size 720x720 with 1 Axes>"
      ]
     },
     "metadata": {
      "needs_background": "light"
     },
     "output_type": "display_data"
    }
   ],
   "source": [
    "\"Taking a look at the lenght distribution within the sets\"\n",
    "\n",
    "def plot_lengths(df_train, df_val, df_test, xlimit):\n",
    "    \n",
    "    #xlimit tunes the range in plot\n",
    "\n",
    "    seqlen_train = list(zip(df_train.sequence.apply(len).to_list(), ['train']*len(df_train)))\n",
    "    seqlen_val = list(zip(df_val.sequence.apply(len).to_list(), ['valid']*len(df_val)))\n",
    "    seqlen_test = list(zip(df_test.sequence.apply(len).to_list(), ['test']*len(df_test)))\n",
    "    df_seqlens = pd.DataFrame(data=seqlen_train+seqlen_val+seqlen_test, columns=['SequenceLengths','Set'])\n",
    "    plt.figure(figsize=(10,10))\n",
    "    sns.histplot(data=df_seqlens, x=\"SequenceLengths\", hue=\"Set\", kde=True, bins=100)\n",
    "    plt.xlim(0,xlimit)\n",
    "    \n",
    "plot_lengths(df_train, df_val, df_test, 750)    "
   ]
  },
  {
   "cell_type": "markdown",
   "id": "b6ede548",
   "metadata": {
    "papermill": {
     "duration": 0.01535,
     "end_time": "2022-12-07T11:21:12.559067",
     "exception": false,
     "start_time": "2022-12-07T11:21:12.543717",
     "status": "completed"
    },
    "tags": []
   },
   "source": [
    "Lenght distributions are similar across data sets. They peack around 100 amino acids and the distribution has a long tail in the larger sequence side, which can probably be cut off."
   ]
  },
  {
   "cell_type": "markdown",
   "id": "cbfcd6b4",
   "metadata": {
    "papermill": {
     "duration": 0.01526,
     "end_time": "2022-12-07T11:21:12.589960",
     "exception": false,
     "start_time": "2022-12-07T11:21:12.574700",
     "status": "completed"
    },
    "tags": []
   },
   "source": [
    "**Summary from data exploration:**\n",
    "* Quite a lot of data, using eg. neural network seems feasible\n",
    "* Sequence lenght distribution similar among data sets, concatenating around sequence length 200-400 would easily capture most data.\n",
    "* Distribution of samples among pfams similar in all the sets, however, there are some pfams which are only present in the training set.\n",
    "* Some duplicates were found, but not significant amount\n",
    "* Quite a few classes (pfams) to predict, indicates the need for a complex model or data reduction to get good results.\n",
    "* Quite a few pfams with only few examples in train. These will be harder to predict with eg. a neural network which usually needs ~500 examples to do well\n",
    "* At least one very common pfam in train: PF13649.6 has almost 2 times more examples as the next most common. Data balancing might be beneficial for fine tuning but since the number of classes is large and distribution mostly flat without data balancing will likely work alright too.\n",
    "* The rare amino acids seem significant only for pfams with few samples. We can pool them together unknown (X) to reduce the dimensionality of data encoding"
   ]
  },
  {
   "cell_type": "markdown",
   "id": "889fd3c9",
   "metadata": {
    "papermill": {
     "duration": 0.015342,
     "end_time": "2022-12-07T11:21:12.620891",
     "exception": false,
     "start_time": "2022-12-07T11:21:12.605549",
     "status": "completed"
    },
    "tags": []
   },
   "source": [
    "# Approach: light version of state-of-the-art resnets\n",
    "\n",
    "* According to Bileschi et al, Nature Biotechnology 40, 932–937 (2022), (convolution) neural networks seem to do well on classifying the pfams of unaligned sequences. This makes sense cause convolution does \"feature extraction\" from the sequenes.\n",
    "* To keep the solution runnable on a worksheet, I'll try a \"light\" version of the NN from Bileschi et al, and see how it does \n",
    "* I will only try to classify to the most common pfams first. This will allow for simpler network structure, reduce memory requirements, but still hopefully provide some data coverage"
   ]
  },
  {
   "cell_type": "markdown",
   "id": "a9144463",
   "metadata": {
    "papermill": {
     "duration": 0.017033,
     "end_time": "2022-12-07T11:21:12.653524",
     "exception": false,
     "start_time": "2022-12-07T11:21:12.636491",
     "status": "completed"
    },
    "tags": []
   },
   "source": [
    "**Data reduction**"
   ]
  },
  {
   "cell_type": "code",
   "execution_count": 15,
   "id": "9b79f93b",
   "metadata": {
    "execution": {
     "iopub.execute_input": "2022-12-07T11:21:12.687111Z",
     "iopub.status.busy": "2022-12-07T11:21:12.686695Z",
     "iopub.status.idle": "2022-12-07T11:21:13.128999Z",
     "shell.execute_reply": "2022-12-07T11:21:13.127667Z"
    },
    "papermill": {
     "duration": 0.46205,
     "end_time": "2022-12-07T11:21:13.131589",
     "exception": false,
     "start_time": "2022-12-07T11:21:12.669539",
     "status": "completed"
    },
    "tags": []
   },
   "outputs": [
    {
     "name": "stdout",
     "output_type": "stream",
     "text": [
      "Number of classes 225\n",
      "Unique pfams in Train 225, data coverage in Train 0.157056, number of training samples 170679\n",
      "Unique pfams in Val 225, data coverage in Val 0.168097 \n",
      "Unique pfams in Test 225\n",
      "The largest considered pfam size is 3637\n",
      "The smallest considered pfam size is 566\n"
     ]
    }
   ],
   "source": [
    "\"Exploring the number of classes vs data coverage vs size of the smallest fpam\"\n",
    "\n",
    "\"Check the function printout to see if the pfam numbers are the same in all sets. If not, there are some in train that are not present in the others\"\n",
    "\n",
    "def grab_classrange(df_train, df_val, df_test, N_begin, N_end):\n",
    "    labels = df_train.family_accession.value_counts()[N_begin:N_end]\n",
    "\n",
    "    #Grabbing the data for those labels\"\n",
    "    mask = df_train.family_accession.isin(labels.index.values)\n",
    "    train_part = df_train.loc[mask,:]\n",
    "    mask = df_val.family_accession.isin(labels.index.values)\n",
    "    val_part = df_val.loc[mask,:]\n",
    "    mask = df_test.family_accession.isin(labels.index.values)\n",
    "    test_part = df_test.loc[mask,:]\n",
    "\n",
    "    #See if all selected labels are in dev and test sets too, print out data coverage and size of the smallest pfam considered\"\n",
    "\n",
    "    print('Number of classes', N_end-N_begin )\n",
    "    print('Unique pfams in Train %d, data coverage in Train %f, number of training samples %d' %(len(np.unique(train_part['family_accession'].values)),len(train_part)/N_train, len(train_part))) \n",
    "    print('Unique pfams in Val %d, data coverage in Val %f ' %(len(np.unique(val_part['family_accession'].values)),len(val_part)/N_val))\n",
    "    print('Unique pfams in Test %d' %(len(np.unique(test_part['family_accession'].values))))\n",
    "    print('The largest considered pfam size is', labels[0] )\n",
    "    print('The smallest considered pfam size is', labels[-1] )\n",
    "    \n",
    "    return train_part, val_part, test_part, N_end-N_begin\n",
    "\n",
    "#Tune the data range selected here, 0 is the most common pfam in train. \"\n",
    "N_begin=0\n",
    "N_end=225\n",
    "\n",
    "train_part, val_part, test_part, N_classes=grab_classrange(df_train, df_val, df_test, N_begin, N_end)\n"
   ]
  },
  {
   "cell_type": "code",
   "execution_count": 16,
   "id": "6ab42201",
   "metadata": {
    "execution": {
     "iopub.execute_input": "2022-12-07T11:21:13.166212Z",
     "iopub.status.busy": "2022-12-07T11:21:13.165825Z",
     "iopub.status.idle": "2022-12-07T11:21:13.327618Z",
     "shell.execute_reply": "2022-12-07T11:21:13.326277Z"
    },
    "papermill": {
     "duration": 0.18283,
     "end_time": "2022-12-07T11:21:13.330202",
     "exception": false,
     "start_time": "2022-12-07T11:21:13.147372",
     "status": "completed"
    },
    "tags": []
   },
   "outputs": [
    {
     "data": {
      "text/plain": [
       "246"
      ]
     },
     "execution_count": 16,
     "metadata": {},
     "output_type": "execute_result"
    }
   ],
   "source": [
    "\"Checking the duplicates again\"\n",
    "np.sum(train_part.sequence.value_counts().loc[lambda x : x>1])\n",
    "\n"
   ]
  },
  {
   "cell_type": "code",
   "execution_count": 17,
   "id": "0bddd4f5",
   "metadata": {
    "execution": {
     "iopub.execute_input": "2022-12-07T11:21:13.364868Z",
     "iopub.status.busy": "2022-12-07T11:21:13.364456Z",
     "iopub.status.idle": "2022-12-07T11:21:15.886298Z",
     "shell.execute_reply": "2022-12-07T11:21:15.884760Z"
    },
    "papermill": {
     "duration": 2.542916,
     "end_time": "2022-12-07T11:21:15.889001",
     "exception": false,
     "start_time": "2022-12-07T11:21:13.346085",
     "status": "completed"
    },
    "tags": []
   },
   "outputs": [
    {
     "data": {
      "image/png": "[encoded data removed]",
      "text/plain": [
       "<Figure size 720x720 with 1 Axes>"
      ]
     },
     "metadata": {
      "needs_background": "light"
     },
     "output_type": "display_data"
    }
   ],
   "source": [
    "\"Checking the length distribution in the new dataset\"\n",
    "plot_lengths(train_part, val_part, test_part, 750) "
   ]
  },
  {
   "cell_type": "markdown",
   "id": "41724b96",
   "metadata": {
    "papermill": {
     "duration": 0.016309,
     "end_time": "2022-12-07T11:21:15.922238",
     "exception": false,
     "start_time": "2022-12-07T11:21:15.905929",
     "status": "completed"
    },
    "tags": []
   },
   "source": [
    "The mode of the distribution is still around 100 and cutting the sequence lenght around 200-300 will give some coverage.\n",
    "\n",
    "To fine tune, I could remove the duplicates and downsample the the training data so that there is only the same amount in every class. This would make sure that the algorithm does not merely learn the relative probabilities of the classes. Optionally, one could manipulate the family weights in training.\n",
    "\n",
    "However, lets make an attempt without data balancing to keep it simple. Since the distribution of pfam sizes seemed locally flat this should work alright."
   ]
  },
  {
   "cell_type": "markdown",
   "id": "6d72ebca",
   "metadata": {
    "papermill": {
     "duration": 0.016751,
     "end_time": "2022-12-07T11:21:15.956271",
     "exception": false,
     "start_time": "2022-12-07T11:21:15.939520",
     "status": "completed"
    },
    "tags": []
   },
   "source": [
    "**Data encodings**"
   ]
  },
  {
   "cell_type": "code",
   "execution_count": 18,
   "id": "aa248150",
   "metadata": {
    "execution": {
     "iopub.execute_input": "2022-12-07T11:21:15.993209Z",
     "iopub.status.busy": "2022-12-07T11:21:15.992179Z",
     "iopub.status.idle": "2022-12-07T11:21:24.548130Z",
     "shell.execute_reply": "2022-12-07T11:21:24.546723Z"
    },
    "papermill": {
     "duration": 8.577749,
     "end_time": "2022-12-07T11:21:24.551665",
     "exception": false,
     "start_time": "2022-12-07T11:21:15.973916",
     "status": "completed"
    },
    "tags": []
   },
   "outputs": [
    {
     "name": "stdout",
     "output_type": "stream",
     "text": [
      "[ 4  9 13 10 20 16  5  7 12  7  8  1  1 18  9  1  8 17 19 16 13  7 14 15\n",
      "  6  8 10  1 16  6  6  6 17  1  3 15 17  8  9 10 19 12]\n"
     ]
    }
   ],
   "source": [
    "\"data encodings: input\"\n",
    "\"Based on the exploration above, few rare amino acids are in the pfams above the size we are exploring here. Encoding them to unknown should not harm the performance much\"\n",
    "\n",
    "def int_encoding(data):\n",
    "    \n",
    "  amino_dict={'A': 1, 'C': 2, 'D': 3, 'E': 4, 'F': 5, 'G': 6, 'H': 7, 'I': 8, 'K': 9, 'L': 10, 'M': 11, 'N': 12, 'P': 13, 'Q': 14, 'R': 15, 'S': 16, 'T': 17, 'V': 18, 'W': 19, 'Y': 20}  \n",
    "    \n",
    "  \"\"\"\n",
    "  \n",
    "  Transforms the 20 aminos in dictionnary above to int codes. IMPORTANT: X, U, B, O, Z (and everything not in the dictionary) code to 0\n",
    "  \n",
    "  \"\"\"\n",
    "  \n",
    "  encode_list = []\n",
    "  for row in data['sequence'].values:\n",
    "    row_encode = []\n",
    "    for code in row:\n",
    "      row_encode.append(amino_dict.get(code, 0))\n",
    "    encode_list.append(np.array(row_encode))\n",
    "  \n",
    "  return encode_list\n",
    "  \n",
    "train_encd = int_encoding(train_part) \n",
    "val_encd = int_encoding(val_part) \n",
    "test_encd = int_encoding(test_part) \n",
    "\n",
    "\n",
    "print(train_encd[0])"
   ]
  },
  {
   "cell_type": "code",
   "execution_count": 19,
   "id": "7a8bf243",
   "metadata": {
    "execution": {
     "iopub.execute_input": "2022-12-07T11:21:24.587510Z",
     "iopub.status.busy": "2022-12-07T11:21:24.587023Z",
     "iopub.status.idle": "2022-12-07T11:21:36.297912Z",
     "shell.execute_reply": "2022-12-07T11:21:36.296580Z"
    },
    "papermill": {
     "duration": 11.731834,
     "end_time": "2022-12-07T11:21:36.300689",
     "exception": false,
     "start_time": "2022-12-07T11:21:24.568855",
     "status": "completed"
    },
    "tags": []
   },
   "outputs": [
    {
     "name": "stdout",
     "output_type": "stream",
     "text": [
      "(170679, 225) (21209, 225) (21209, 225)\n",
      "(170679, 225, 21) (21209, 225, 21) (21209, 225, 21)\n"
     ]
    },
    {
     "data": {
      "text/plain": [
       "((170679, 225), (21209, 225), (21209, 225))"
      ]
     },
     "execution_count": 19,
     "metadata": {},
     "output_type": "execute_result"
    }
   ],
   "source": [
    "\"Limiting sequence lenghts and padding at the end: Maximun sequence lenght (seq_max_l) chosen based on the lenght distribution plot\"\n",
    "#code reference: https://github.com/ronakvijay/Protein_Sequence_Classification/blob/master/Pfam_protein_sequence_classification.ipynb\n",
    "from tensorflow.keras.preprocessing.sequence import pad_sequences\n",
    "\n",
    "seq_max_l = 225\n",
    "padtype='post'\n",
    "trunctype='post'\n",
    "\n",
    "train_pad = pad_sequences(train_encd, maxlen=seq_max_l, padding=padtype, truncating=trunctype)\n",
    "val_pad = pad_sequences(val_encd, maxlen=seq_max_l, padding=padtype, truncating=trunctype)\n",
    "test_pad = pad_sequences(test_encd, maxlen=seq_max_l, padding=padtype, truncating=trunctype)\n",
    "\n",
    "print(train_pad.shape, val_pad.shape, test_pad.shape)\n",
    "\n",
    "\n",
    "\"One hot encoding the inputs. The NN might work ok without and this increases the dimensionality\"\n",
    "from tensorflow.keras.utils import to_categorical\n",
    "\n",
    "train_ohe = to_categorical(train_pad)\n",
    "val_ohe = to_categorical(val_pad)\n",
    "test_ohe = to_categorical(test_pad)\n",
    "\n",
    "print(train_ohe.shape, val_ohe.shape, test_ohe.shape) \n",
    "\n",
    "\"Encoding the outputs first to numbers and then one hot\"\n",
    "\n",
    "from sklearn.preprocessing import LabelEncoder\n",
    "\n",
    "le = LabelEncoder()\n",
    "\n",
    "y_train_le = le.fit_transform(train_part['family_accession'])\n",
    "y_val_le = le.transform(val_part['family_accession'])\n",
    "y_test_le = le.transform(test_part['family_accession'])\n",
    "\n",
    "y_train_le.shape, y_val_le.shape, y_test_le.shape\n",
    "\n",
    "y_train = to_categorical(y_train_le)\n",
    "y_val = to_categorical(y_val_le)\n",
    "y_test = to_categorical(y_test_le)\n",
    "\n",
    "y_train.shape, y_val.shape, y_test.shape"
   ]
  },
  {
   "cell_type": "markdown",
   "id": "b1046fe0",
   "metadata": {
    "papermill": {
     "duration": 0.017616,
     "end_time": "2022-12-07T11:21:36.336443",
     "exception": false,
     "start_time": "2022-12-07T11:21:36.318827",
     "status": "completed"
    },
    "tags": []
   },
   "source": [
    "**Network design**\n",
    "inspired by Bileschi et al\n",
    "* Softmax for classification, othervise Relu activation\n",
    "* Cross entropy for loss\n",
    "* Adam optimizer\n",
    "* Dropout to reduce overfitting, keeping the training batch size small also should help due to the noise it introduces\n",
    "* Dilated layer in the beginning to capture broader range of information from the sequence without adding bulk in the network"
   ]
  },
  {
   "cell_type": "code",
   "execution_count": 20,
   "id": "2120f91a",
   "metadata": {
    "execution": {
     "iopub.execute_input": "2022-12-07T11:21:36.374214Z",
     "iopub.status.busy": "2022-12-07T11:21:36.373427Z",
     "iopub.status.idle": "2022-12-07T11:21:36.639032Z",
     "shell.execute_reply": "2022-12-07T11:21:36.637845Z"
    },
    "papermill": {
     "duration": 0.287382,
     "end_time": "2022-12-07T11:21:36.641921",
     "exception": false,
     "start_time": "2022-12-07T11:21:36.354539",
     "status": "completed"
    },
    "tags": []
   },
   "outputs": [
    {
     "data": {
      "text/plain": [
       "73"
      ]
     },
     "execution_count": 20,
     "metadata": {},
     "output_type": "execute_result"
    }
   ],
   "source": [
    "\"Some memory cleaning before ML run, these can be reloaded and recalculated easily\"\n",
    "del train_encd, val_encd, test_encd\n",
    "del train_pad, val_pad, test_pad\n",
    "del y_train_le, y_val_le, y_test_le\n",
    "#del df_train, df_val, df_test\n",
    "gc.collect()"
   ]
  },
  {
   "cell_type": "code",
   "execution_count": 21,
   "id": "1da9c7ac",
   "metadata": {
    "execution": {
     "iopub.execute_input": "2022-12-07T11:21:36.679196Z",
     "iopub.status.busy": "2022-12-07T11:21:36.678367Z",
     "iopub.status.idle": "2022-12-07T11:21:36.691745Z",
     "shell.execute_reply": "2022-12-07T11:21:36.690520Z"
    },
    "papermill": {
     "duration": 0.03536,
     "end_time": "2022-12-07T11:21:36.694296",
     "exception": false,
     "start_time": "2022-12-07T11:21:36.658936",
     "status": "completed"
    },
    "tags": []
   },
   "outputs": [],
   "source": [
    "from tensorflow.keras.models import Model\n",
    "from tensorflow.keras.regularizers import l2\n",
    "from tensorflow.keras.constraints import max_norm\n",
    "from tensorflow.keras.utils import to_categorical\n",
    "from tensorflow.keras.preprocessing.text import Tokenizer\n",
    "from tensorflow.keras.preprocessing.sequence import pad_sequences\n",
    "from tensorflow.keras.callbacks import EarlyStopping\n",
    "from tensorflow.keras.layers import Input, Dense, Dropout, Flatten, Activation\n",
    "from tensorflow.keras.layers import Conv1D, Add, MaxPooling1D, BatchNormalization\n",
    "from tensorflow.keras.layers import Embedding, Bidirectional, LSTM, GlobalMaxPooling1D\n",
    "\n",
    "\"this is a function to create the dilated convolution layers\"\n",
    "#Used this as a reference and modified: https://github.com/ronakvijay/Protein_Sequence_Classification/blob/master/Pfam_protein_sequence_classification.ipynb\n",
    "\n",
    "def res_block(data, filters, dil_rate):\n",
    "  \"\"\"\n",
    "  data: input\n",
    "  filters: convolution filters\n",
    "  dil_rate: dilation rate \n",
    "  \"\"\"\n",
    "\n",
    "  # skip connection prevents vanishing gradient w/ shortcut path for gradient flow\n",
    "  # skip conn also allows model to learn identity function so higher layers will perform at least as well as lower layers   \n",
    "\n",
    "  shortcut = data\n",
    "\n",
    "  bn1 = BatchNormalization()(data) #batch norm might also help prevent vanishing grads\n",
    "  act1 = Activation('relu')(bn1)\n",
    "  conv1 = Conv1D(filters, 1, dilation_rate=dil_rate, padding='same', kernel_regularizer=l2(1e-4))(act1)\n",
    "\n",
    "  #bottleneck convolution\n",
    "  bn2 = BatchNormalization()(conv1)\n",
    "  act2 = Activation('relu')(bn2)\n",
    "  conv2 = Conv1D(filters, 3, padding='same', kernel_regularizer=l2(1e-4))(act2)\n",
    "\n",
    "  #skip connection\n",
    "  m = Add()([conv2, shortcut])\n",
    "\n",
    "  return m"
   ]
  },
  {
   "cell_type": "code",
   "execution_count": 22,
   "id": "9cbcfe49",
   "metadata": {
    "execution": {
     "iopub.execute_input": "2022-12-07T11:21:36.730229Z",
     "iopub.status.busy": "2022-12-07T11:21:36.729737Z",
     "iopub.status.idle": "2022-12-07T11:21:37.021343Z",
     "shell.execute_reply": "2022-12-07T11:21:37.019843Z"
    },
    "papermill": {
     "duration": 0.312603,
     "end_time": "2022-12-07T11:21:37.024101",
     "exception": false,
     "start_time": "2022-12-07T11:21:36.711498",
     "status": "completed"
    },
    "tags": []
   },
   "outputs": [
    {
     "name": "stderr",
     "output_type": "stream",
     "text": [
      "2022-12-07 11:21:36.791486: I tensorflow/core/common_runtime/process_util.cc:146] Creating new thread pool with default inter op setting: 2. Tune using inter_op_parallelism_threads for best performance.\n"
     ]
    },
    {
     "name": "stdout",
     "output_type": "stream",
     "text": [
      "Model: \"model\"\n",
      "__________________________________________________________________________________________________\n",
      "Layer (type)                    Output Shape         Param #     Connected to                     \n",
      "==================================================================================================\n",
      "input_1 (InputLayer)            [(None, 225, 21)]    0                                            \n",
      "__________________________________________________________________________________________________\n",
      "conv1d (Conv1D)                 (None, 225, 32)      704         input_1[0][0]                    \n",
      "__________________________________________________________________________________________________\n",
      "batch_normalization (BatchNorma (None, 225, 32)      128         conv1d[0][0]                     \n",
      "__________________________________________________________________________________________________\n",
      "activation (Activation)         (None, 225, 32)      0           batch_normalization[0][0]        \n",
      "__________________________________________________________________________________________________\n",
      "conv1d_1 (Conv1D)               (None, 225, 32)      1056        activation[0][0]                 \n",
      "__________________________________________________________________________________________________\n",
      "batch_normalization_1 (BatchNor (None, 225, 32)      128         conv1d_1[0][0]                   \n",
      "__________________________________________________________________________________________________\n",
      "activation_1 (Activation)       (None, 225, 32)      0           batch_normalization_1[0][0]      \n",
      "__________________________________________________________________________________________________\n",
      "conv1d_2 (Conv1D)               (None, 225, 32)      3104        activation_1[0][0]               \n",
      "__________________________________________________________________________________________________\n",
      "add (Add)                       (None, 225, 32)      0           conv1d_2[0][0]                   \n",
      "                                                                 conv1d[0][0]                     \n",
      "__________________________________________________________________________________________________\n",
      "batch_normalization_2 (BatchNor (None, 225, 32)      128         add[0][0]                        \n",
      "__________________________________________________________________________________________________\n",
      "activation_2 (Activation)       (None, 225, 32)      0           batch_normalization_2[0][0]      \n",
      "__________________________________________________________________________________________________\n",
      "conv1d_3 (Conv1D)               (None, 225, 32)      1056        activation_2[0][0]               \n",
      "__________________________________________________________________________________________________\n",
      "batch_normalization_3 (BatchNor (None, 225, 32)      128         conv1d_3[0][0]                   \n",
      "__________________________________________________________________________________________________\n",
      "activation_3 (Activation)       (None, 225, 32)      0           batch_normalization_3[0][0]      \n",
      "__________________________________________________________________________________________________\n",
      "conv1d_4 (Conv1D)               (None, 225, 32)      3104        activation_3[0][0]               \n",
      "__________________________________________________________________________________________________\n",
      "add_1 (Add)                     (None, 225, 32)      0           conv1d_4[0][0]                   \n",
      "                                                                 add[0][0]                        \n",
      "__________________________________________________________________________________________________\n",
      "max_pooling1d (MaxPooling1D)    (None, 75, 32)       0           add_1[0][0]                      \n",
      "__________________________________________________________________________________________________\n",
      "dropout (Dropout)               (None, 75, 32)       0           max_pooling1d[0][0]              \n",
      "__________________________________________________________________________________________________\n",
      "flatten (Flatten)               (None, 2400)         0           dropout[0][0]                    \n",
      "__________________________________________________________________________________________________\n",
      "dense (Dense)                   (None, 225)          540225      flatten[0][0]                    \n",
      "==================================================================================================\n",
      "Total params: 549,761\n",
      "Trainable params: 549,505\n",
      "Non-trainable params: 256\n",
      "__________________________________________________________________________________________________\n"
     ]
    }
   ],
   "source": [
    "\"Here finally the model design, written as a function for easy hyperparameter exploration if needed to optimize performance\"\n",
    "\n",
    "#Used this as a reference and modified: https://github.com/ronakvijay/Protein_Sequence_Classification/blob/master/Pfam_protein_sequence_classification.ipynb\n",
    "\n",
    "def create_resnet(seq_max_l, dil_rate, drop_rate, N_class, amino_enc_dim):\n",
    "    \"\"\"\n",
    "    seq_max_l: sequence lenght\n",
    "    dil_rate: dilata6tion rate for dilated layers\n",
    "    drop_rate: dropout rate\n",
    "    N_class: number of classes to be predicted\n",
    "    amino_enc_dim: dimension resulting from one hot encoding of amino acids\n",
    "    \"\"\"\n",
    "    m_input = Input(shape=(seq_max_l, amino_enc_dim))\n",
    "\n",
    "    #initial conv\n",
    "    conv = Conv1D(32, 1, padding='same')(m_input) #extract basic information\n",
    "\n",
    "    #per-residue representation to extract more complex features, second one hard coded to be double the first\n",
    "    res1 = res_block(conv, 32, dil_rate) \n",
    "    res2 = res_block(res1, 32, dil_rate*2)\n",
    "\n",
    "    #Max Pooling\n",
    "    m = MaxPooling1D(3)(res2) #to reduce spatial size\n",
    "    m = Dropout(drop_rate)(m) #to prevent overfitting\n",
    "\n",
    "    #Final layers with softmax\n",
    "    m = Flatten()(m)\n",
    "    m_output = Dense(N_class, activation='softmax', kernel_regularizer=l2(1e-4))(m)\n",
    "\n",
    "    #Compiling the model\n",
    "    model = Model(inputs=m_input, outputs=m_output)\n",
    "    model.compile(optimizer='adam', loss='categorical_crossentropy', metrics=['accuracy'])\n",
    "\n",
    "    return model\n",
    "\n",
    "\"Create the model and print summary\"\n",
    "model1=create_resnet(seq_max_l, 2, 0.35, N_classes, 21)\n",
    "model1.summary()"
   ]
  },
  {
   "cell_type": "code",
   "execution_count": 23,
   "id": "dcb7f07a",
   "metadata": {
    "execution": {
     "iopub.execute_input": "2022-12-07T11:21:37.061592Z",
     "iopub.status.busy": "2022-12-07T11:21:37.060570Z",
     "iopub.status.idle": "2022-12-07T11:30:36.684856Z",
     "shell.execute_reply": "2022-12-07T11:30:36.682805Z"
    },
    "papermill": {
     "duration": 539.648826,
     "end_time": "2022-12-07T11:30:36.690472",
     "exception": false,
     "start_time": "2022-12-07T11:21:37.041646",
     "status": "completed"
    },
    "tags": []
   },
   "outputs": [
    {
     "name": "stderr",
     "output_type": "stream",
     "text": [
      "2022-12-07 11:21:40.814410: I tensorflow/compiler/mlir/mlir_graph_optimization_pass.cc:185] None of the MLIR Optimization Passes are enabled (registered 2)\n"
     ]
    },
    {
     "name": "stdout",
     "output_type": "stream",
     "text": [
      "Epoch 1/30\n",
      "2276/2276 [==============================] - 136s 58ms/step - loss: 0.3285 - accuracy: 0.9435 - val_loss: 0.1044 - val_accuracy: 0.9931\n",
      "Epoch 2/30\n",
      "2276/2276 [==============================] - 132s 58ms/step - loss: 0.1109 - accuracy: 0.9911 - val_loss: 0.1236 - val_accuracy: 0.9909\n",
      "Epoch 3/30\n",
      "2276/2276 [==============================] - 134s 59ms/step - loss: 0.1164 - accuracy: 0.9924 - val_loss: 0.1256 - val_accuracy: 0.9929\n",
      "Epoch 4/30\n",
      "2276/2276 [==============================] - 134s 59ms/step - loss: 0.1181 - accuracy: 0.9932 - val_loss: 0.1278 - val_accuracy: 0.9934\n",
      "Epoch 00004: early stopping\n"
     ]
    }
   ],
   "source": [
    "\"Training the model with early stop monitoring to prevent going to overfitting\"\n",
    "\n",
    "es = EarlyStopping(monitor='val_loss', patience=3, verbose=1)\n",
    "\n",
    "\"Here parameters for training: batch size and epochs. Reducing the batch size will help to keep memory consumption under control but will also affect the training result\"\n",
    "\"Note: Training should take max 20 min on a cpu using these parameters\"\n",
    "N_epoch=30\n",
    "B_size=75\n",
    "\n",
    "\n",
    "history1 = model1.fit(\n",
    "    train_ohe, y_train,\n",
    "    epochs=N_epoch, batch_size=B_size,\n",
    "    validation_data=(val_ohe, y_val),\n",
    "    callbacks=[es]\n",
    "    )"
   ]
  },
  {
   "cell_type": "code",
   "execution_count": 24,
   "id": "5c4c38c9",
   "metadata": {
    "execution": {
     "iopub.execute_input": "2022-12-07T11:30:37.942690Z",
     "iopub.status.busy": "2022-12-07T11:30:37.942065Z",
     "iopub.status.idle": "2022-12-07T11:31:05.135825Z",
     "shell.execute_reply": "2022-12-07T11:31:05.134584Z"
    },
    "papermill": {
     "duration": 27.783339,
     "end_time": "2022-12-07T11:31:05.138982",
     "exception": false,
     "start_time": "2022-12-07T11:30:37.355643",
     "status": "completed"
    },
    "tags": []
   },
   "outputs": [],
   "source": [
    "\"These are basic functions for plotting the training\"\n",
    "\n",
    "# source: https://realpython.com/python-keras-text-classification/\n",
    "plt.style.use('ggplot')\n",
    "\n",
    "\n",
    "# extracts the training curves from history.\n",
    "def plot_history(history):\n",
    "  acc = history.history['accuracy']\n",
    "  val_acc = history.history['val_accuracy']\n",
    "  loss = history.history['loss']\n",
    "  val_loss = history.history['val_loss']\n",
    "  x = range(1, len(acc) + 1)\n",
    "\n",
    "  plt.figure(figsize=(12, 5))\n",
    "  plt.subplot(1, 2, 1)\n",
    "  plt.plot(x, acc, 'b', label='Training acc')\n",
    "  plt.plot(x, val_acc, 'r', label='Validation acc')\n",
    "  plt.title('Training and validation accuracy')\n",
    "  plt.legend()\n",
    "\n",
    "  plt.subplot(1, 2, 2)\n",
    "  plt.plot(x, loss, 'b', label='Training loss')\n",
    "  plt.plot(x, val_loss, 'r', label='Validation loss')\n",
    "  plt.title('Training and validation loss')\n",
    "  plt.legend()\n",
    "\n",
    "# Displays model score(Loss & Accuracy) across the inputted sets.\n",
    "\n",
    "def display_model_score(model, train, val, test, batch_size):\n",
    "\n",
    "  train_score = model.evaluate(train[0], train[1], batch_size=batch_size, verbose=1)\n",
    "  print('Train loss: ', train_score[0])\n",
    "  print('Train accuracy: ', train_score[1])\n",
    "  print('-'*70)\n",
    "\n",
    "  val_score = model.evaluate(val[0], val[1], batch_size=batch_size, verbose=1)\n",
    "  print('Val loss: ', val_score[0])\n",
    "  print('Val accuracy: ', val_score[1])\n",
    "  print('-'*70)\n",
    "  \n",
    "  test_score = model.evaluate(test[0], test[1], batch_size=batch_size, verbose=1)\n",
    "  print('Test loss: ', test_score[0])\n",
    "  print('Test accuracy: ', test_score[1])"
   ]
  },
  {
   "cell_type": "code",
   "execution_count": 25,
   "id": "1b268f73",
   "metadata": {
    "execution": {
     "iopub.execute_input": "2022-12-07T11:31:06.372304Z",
     "iopub.status.busy": "2022-12-07T11:31:06.371527Z",
     "iopub.status.idle": "2022-12-07T11:31:58.034832Z",
     "shell.execute_reply": "2022-12-07T11:31:58.033577Z"
    },
    "papermill": {
     "duration": 52.309576,
     "end_time": "2022-12-07T11:31:58.037638",
     "exception": false,
     "start_time": "2022-12-07T11:31:05.728062",
     "status": "completed"
    },
    "tags": []
   },
   "outputs": [
    {
     "name": "stdout",
     "output_type": "stream",
     "text": [
      "2276/2276 [==============================] - 37s 16ms/step - loss: 0.1013 - accuracy: 0.9986\n",
      "Train loss:  0.10125201940536499\n",
      "Train accuracy:  0.9986172914505005\n",
      "----------------------------------------------------------------------\n",
      "283/283 [==============================] - 5s 16ms/step - loss: 0.1278 - accuracy: 0.9934\n",
      "Val loss:  0.1277758926153183\n",
      "Val accuracy:  0.9933990240097046\n",
      "----------------------------------------------------------------------\n",
      "283/283 [==============================] - 5s 16ms/step - loss: 0.1241 - accuracy: 0.9939\n",
      "Test loss:  0.12412509322166443\n",
      "Test accuracy:  0.99391770362854\n"
     ]
    },
    {
     "data": {
      "image/png": "[encoded data removed]",
      "text/plain": [
       "<Figure size 864x360 with 2 Axes>"
      ]
     },
     "metadata": {},
     "output_type": "display_data"
    }
   ],
   "source": [
    "display_model_score(model1,\n",
    "    [train_ohe, y_train],\n",
    "    [val_ohe, y_val],\n",
    "    [test_ohe, y_test],\n",
    "    B_size)\n",
    "\n",
    "plot_history(history1)"
   ]
  },
  {
   "cell_type": "code",
   "execution_count": 26,
   "id": "7d5c40bc",
   "metadata": {
    "execution": {
     "iopub.execute_input": "2022-12-07T11:31:59.458276Z",
     "iopub.status.busy": "2022-12-07T11:31:59.457869Z",
     "iopub.status.idle": "2022-12-07T11:31:59.462275Z",
     "shell.execute_reply": "2022-12-07T11:31:59.461027Z"
    },
    "papermill": {
     "duration": 0.732503,
     "end_time": "2022-12-07T11:31:59.464747",
     "exception": false,
     "start_time": "2022-12-07T11:31:58.732244",
     "status": "completed"
    },
    "tags": []
   },
   "outputs": [],
   "source": [
    "#Save the model in case you need to run again to save time\n",
    "#model1.save_weights('./my_model.h')"
   ]
  },
  {
   "cell_type": "markdown",
   "id": "2bee5466",
   "metadata": {
    "papermill": {
     "duration": 0.700805,
     "end_time": "2022-12-07T11:32:00.807427",
     "exception": false,
     "start_time": "2022-12-07T11:32:00.106622",
     "status": "completed"
    },
    "tags": []
   },
   "source": [
    "**Observations**\n",
    "\n",
    "The light Resnet consistently gives good accuracy in all datasets. However, it is quite a big model and memory intensive which limits what I can do here. Big model also risks overfitting to the training data. We also have to remember and this \"good accuracy\" is only in subset of the data.\n",
    "\n",
    "Let's see how the model accuracy in test set behaves as the function of pfam size in train. Note! Using accuracy defined as (number of correct predictions)/(total number of samples in class) ie. ignoring true negatives."
   ]
  },
  {
   "cell_type": "code",
   "execution_count": 27,
   "id": "d6b0901f",
   "metadata": {
    "execution": {
     "iopub.execute_input": "2022-12-07T11:32:02.191595Z",
     "iopub.status.busy": "2022-12-07T11:32:02.190738Z",
     "iopub.status.idle": "2022-12-07T11:32:18.402819Z",
     "shell.execute_reply": "2022-12-07T11:32:18.401418Z"
    },
    "papermill": {
     "duration": 16.948532,
     "end_time": "2022-12-07T11:32:18.405344",
     "exception": false,
     "start_time": "2022-12-07T11:32:01.456812",
     "status": "completed"
    },
    "tags": []
   },
   "outputs": [
    {
     "data": {
      "image/png": "[encoded data removed]",
      "text/plain": [
       "<Figure size 1800x504 with 1 Axes>"
      ]
     },
     "metadata": {},
     "output_type": "display_data"
    }
   ],
   "source": [
    "gc.collect()\n",
    "\"the argmax reverses the one hot encoding, the inverse transform finds the labels\"\n",
    "preds = le.inverse_transform(np.argmax(model1.predict(test_ohe), axis=1))\n",
    "\n",
    "\"if you cleaned these from memory above, uncomment to download here again\"\n",
    "df_test = read_data('test')\n",
    "df_train = read_data('train')\n",
    "\n",
    "labels=df_train.family_accession.value_counts()[N_begin:N_end]\n",
    "mask = df_test.family_accession.isin(labels.index.values)\n",
    "test_part = df_test.loc[mask,:]\n",
    "\n",
    "from sklearn.metrics import confusion_matrix\n",
    "\"confusion matrix is a handy but opaque way of extracting the class accuracies\"\n",
    "cm = confusion_matrix(test_part.family_accession, preds,  labels=labels.index.values, normalize='true')\n",
    "acc=cm.diagonal()\n",
    "plt.figure(figsize=(25, 7))    \n",
    "plt.scatter(labels[:], acc)\n",
    "plt.xlabel(\"pfam size in training set\")\n",
    "plt.ylabel(\"accuracy of prediction in test set\")\n",
    "plt.show()"
   ]
  },
  {
   "cell_type": "markdown",
   "id": "b246efd3",
   "metadata": {
    "papermill": {
     "duration": 0.617152,
     "end_time": "2022-12-07T11:32:19.660891",
     "exception": false,
     "start_time": "2022-12-07T11:32:19.043739",
     "status": "completed"
    },
    "tags": []
   },
   "source": [
    "The scatter plot of preduction accuracy within pfam vs the pfam size shows that in general accuracy increases with the pfam size in the training set. This is to be expected. The number of datapoints at 1 could indicate some overfitting/data leakage but since these are pfam-vise (and not the total) accuracies, and there are pfams with much less accurate results, I am not too concerned yet.\n",
    "\n",
    "However, the plot seems to form pequiliar lines as function of increasing plot size? Is this related to what the model learns? Do the pfams in the lines belong to similar superfamily? A freak numerical accident? Coding error? I did reproduce the same result using two different methods for extracting the accuracies.\n",
    "\n",
    "\n",
    "Let's zoom into one of the lines:"
   ]
  },
  {
   "cell_type": "code",
   "execution_count": 28,
   "id": "e1712f25",
   "metadata": {
    "execution": {
     "iopub.execute_input": "2022-12-07T11:32:20.987881Z",
     "iopub.status.busy": "2022-12-07T11:32:20.986806Z",
     "iopub.status.idle": "2022-12-07T11:32:21.194711Z",
     "shell.execute_reply": "2022-12-07T11:32:21.193727Z"
    },
    "papermill": {
     "duration": 0.846013,
     "end_time": "2022-12-07T11:32:21.200728",
     "exception": false,
     "start_time": "2022-12-07T11:32:20.354715",
     "status": "completed"
    },
    "tags": []
   },
   "outputs": [
    {
     "name": "stdout",
     "output_type": "stream",
     "text": [
      "[0.99324324 0.99242424 0.99230769 0.9921875  0.99193548 0.99074074\n",
      " 0.99074074 0.99047619 0.99       0.98947368 0.9893617  0.98913043\n",
      " 0.98901099 0.98901099 0.98863636 0.98863636 0.98863636 0.98837209\n",
      " 0.98837209 0.98809524 0.98809524 0.98780488 0.98780488 0.98765432\n",
      " 0.98765432 0.9875     0.98734177 0.98717949 0.98717949 0.98701299\n",
      " 0.98717949 0.98701299 0.98701299 0.98701299 0.98701299 0.98701299\n",
      " 0.98684211 0.98648649 0.98630137 0.98611111 0.98591549 0.98591549\n",
      " 0.98591549 0.98591549 0.98591549]\n",
      "[1185 1061 1042 1032  992  871  870  845  804  769  753  740  736  734\n",
      "  710  709  708  693  692  675  674  663  663  650  649  641  632  630\n",
      "  625  625  624  621  621  620  620  617  609  600  584  583  577  577\n",
      "  576  575  568]\n"
     ]
    },
    {
     "data": {
      "image/png": "[encoded data removed]",
      "text/plain": [
       "<Figure size 1800x504 with 1 Axes>"
      ]
     },
     "metadata": {},
     "output_type": "display_data"
    },
    {
     "name": "stdout",
     "output_type": "stream",
     "text": [
      "['PF02881.19' 'PF02545.14' 'PF03453.17' 'PF01799.20' 'PF05192.18'\n",
      " 'PF03462.18' 'PF13692.6' 'PF13439.6' 'PF02844.15' 'PF01641.18'\n",
      " 'PF02021.17' 'PF07479.14' 'PF00920.21' 'PF01330.21' 'PF13288.6'\n",
      " 'PF02033.18' 'PF02739.16' 'PF04264.13' 'PF02686.15' 'PF01252.18'\n",
      " 'PF00365.20' 'PF02424.15' 'PF08459.11' 'PF02325.17' 'PF10397.9'\n",
      " 'PF02367.17' 'PF02771.16' 'PF00358.20' 'PF11838.8' 'PF01379.20'\n",
      " 'PF01055.26' 'PF17768.1' 'PF00003.22' 'PF13517.6' 'PF01424.22'\n",
      " 'PF00926.19' 'PF01975.17' 'PF10996.8' 'PF03705.15' 'PF14693.6'\n",
      " 'PF07971.12' 'PF02508.14' 'PF00886.19' 'PF01628.21' 'PF00885.19']\n",
      "(array([ 10,  18,  20,  22,  26,  32,  33,  40,  53,  69,  75,  82,  83,\n",
      "        84,  97,  98, 100, 104, 106, 118, 119, 124, 125, 130, 132, 137,\n",
      "       143, 145, 147, 148, 150, 152, 153, 156, 157, 160, 166, 177, 205,\n",
      "       207, 209, 211, 212, 215, 220]),)\n"
     ]
    },
    {
     "data": {
      "text/plain": [
       "63                   B5\n",
       "109                  B5\n",
       "118             UPF0016\n",
       "133                 RRF\n",
       "168                 RRF\n",
       "247      Ribosomal_L21p\n",
       "249     Phe_tRNA-synt_N\n",
       "296               CBM_1\n",
       "371                YceI\n",
       "476       B12-binding_2\n",
       "518             SRP54_N\n",
       "556                AIRS\n",
       "562                SecY\n",
       "565        Peptidase_A8\n",
       "660         AAA_assoc_2\n",
       "663             Nebulin\n",
       "684                SelR\n",
       "689             UPF0126\n",
       "694                ZnuA\n",
       "762         Flavokinase\n",
       "766         CPSase_L_D3\n",
       "781       Ribosomal_L23\n",
       "786             UPF0126\n",
       "820               7tm_3\n",
       "826          ATP-synt_C\n",
       "844                 R3H\n",
       "867        DHquinase_II\n",
       "874       Tyr_Deacylase\n",
       "906               7tm_3\n",
       "910                CRCB\n",
       "918                UvrB\n",
       "924                 DHH\n",
       "932     Methyltransf_25\n",
       "958         THF_DHG_CYH\n",
       "963      Succ_DH_flav_C\n",
       "987                PATR\n",
       "1001             MoeA_N\n",
       "1038       Ribosomal_S6\n",
       "1208              PQQ_3\n",
       "1215      Ribosomal_L22\n",
       "1220             ADSL_C\n",
       "1231         Ham1p_like\n",
       "1256         His_kinase\n",
       "1287        NADH_4Fe-4S\n",
       "1316              ANTAR\n",
       "Name: family_id, dtype: object"
      ]
     },
     "execution_count": 28,
     "metadata": {},
     "output_type": "execute_result"
    }
   ],
   "source": [
    "lmask=np.where(np.logical_and(np.logical_and(acc>0.985, acc<0.995) ,np.logical_and(labels.values<1200, labels.values!=1173)))\n",
    "print(acc[lmask])\n",
    "print(labels.values[lmask])\n",
    "plt.figure(figsize=(25, 7))    \n",
    "plt.scatter(labels.values[lmask], acc[lmask])\n",
    "plt.show()\n",
    "\n",
    "print(labels.index.values[lmask])\n",
    "print(lmask)\n",
    "test_part['family_id'].iloc[lmask]"
   ]
  },
  {
   "cell_type": "markdown",
   "id": "a57971ca",
   "metadata": {
    "papermill": {
     "duration": 0.629638,
     "end_time": "2022-12-07T11:32:22.524073",
     "exception": false,
     "start_time": "2022-12-07T11:32:21.894435",
     "status": "completed"
    },
    "tags": []
   },
   "source": [
    "Nothing jumps out immediately after extracting the one of the \"arcs\" from the plot.\n",
    "\n",
    "It would be fun to correlate these with the similarity measure (sequence identity) used in the Bileschi et al paper, but running distance calculations on a notebook is a bit unfeasible. The example code below calculates the similarity of 6000 aligned sequences in the test to the data in train and it takes around ~1h. Using custom measure can kill the computational performance of cdist."
   ]
  },
  {
   "cell_type": "code",
   "execution_count": 29,
   "id": "c9ff9d32",
   "metadata": {
    "execution": {
     "iopub.execute_input": "2022-12-07T11:32:23.858606Z",
     "iopub.status.busy": "2022-12-07T11:32:23.858136Z",
     "iopub.status.idle": "2022-12-07T11:32:23.865630Z",
     "shell.execute_reply": "2022-12-07T11:32:23.864267Z"
    },
    "papermill": {
     "duration": 0.712441,
     "end_time": "2022-12-07T11:32:23.868600",
     "exception": false,
     "start_time": "2022-12-07T11:32:23.156159",
     "status": "completed"
    },
    "tags": []
   },
   "outputs": [
    {
     "data": {
      "text/plain": [
       "\"\\ndef similarity(a,b):\\n    #this function calculates the metric for sequence similarity\\n    min_l=min(len(a), len(b))\\n    return sum(s1 == s2 and s1!='.' for s1, s2 in zip(a[:min_l], b[:min_l]))/min_l\\n\\nprint(len(test_part['aligned_sequence'].values))\\n\\n#calculating distances between all of train and partial test set, set here to 6000 first sequences\\nx_train=np.asarray(train_part['aligned_sequence'].values, dtype=object)\\nx_test=np.asarray(train_part['aligned_sequence'].values[:6000], dtype=object)\\nb=time.time()\\nmatrix = cdist(x_test.reshape(-1, 1), x_train.reshape(-1, 1), lambda x, y: similarity(x,y))\\n\\n\\ne=time.time()\\nprint(e-b)\\n\""
      ]
     },
     "execution_count": 29,
     "metadata": {},
     "output_type": "execute_result"
    }
   ],
   "source": [
    "\"\"\"\n",
    "def similarity(a,b):\n",
    "    #this function calculates the metric for sequence similarity\n",
    "    min_l=min(len(a), len(b))\n",
    "    return sum(s1 == s2 and s1!='.' for s1, s2 in zip(a[:min_l], b[:min_l]))/min_l\n",
    "\n",
    "print(len(test_part['aligned_sequence'].values))\n",
    "\n",
    "#calculating distances between all of train and partial test set, set here to 6000 first sequences\n",
    "x_train=np.asarray(train_part['aligned_sequence'].values, dtype=object)\n",
    "x_test=np.asarray(train_part['aligned_sequence'].values[:6000], dtype=object)\n",
    "b=time.time()\n",
    "matrix = cdist(x_test.reshape(-1, 1), x_train.reshape(-1, 1), lambda x, y: similarity(x,y))\n",
    "\n",
    "\n",
    "e=time.time()\n",
    "print(e-b)\n",
    "\"\"\""
   ]
  },
  {
   "cell_type": "markdown",
   "id": "45376731",
   "metadata": {
    "papermill": {
     "duration": 0.702491,
     "end_time": "2022-12-07T11:32:25.223452",
     "exception": false,
     "start_time": "2022-12-07T11:32:24.520961",
     "status": "completed"
    },
    "tags": []
   },
   "source": [
    "Let us correlate the accuracies with the 1) the average sequence lenght and 2) the variance of sequence lenght in the pfams instead. Maybe this will mimic information content of the sequences in pfams?"
   ]
  },
  {
   "cell_type": "code",
   "execution_count": 30,
   "id": "c7a9ff41",
   "metadata": {
    "execution": {
     "iopub.execute_input": "2022-12-07T11:32:26.503869Z",
     "iopub.status.busy": "2022-12-07T11:32:26.502978Z",
     "iopub.status.idle": "2022-12-07T11:32:27.103123Z",
     "shell.execute_reply": "2022-12-07T11:32:27.101502Z"
    },
    "papermill": {
     "duration": 1.236831,
     "end_time": "2022-12-07T11:32:27.106574",
     "exception": false,
     "start_time": "2022-12-07T11:32:25.869743",
     "status": "completed"
    },
    "tags": []
   },
   "outputs": [
    {
     "data": {
      "image/png": "[encoded data removed]",
      "text/plain": [
       "<Figure size 1800x504 with 1 Axes>"
      ]
     },
     "metadata": {},
     "output_type": "display_data"
    },
    {
     "data": {
      "image/png": "[encoded data removed]",
      "text/plain": [
       "<Figure size 1800x504 with 1 Axes>"
      ]
     },
     "metadata": {},
     "output_type": "display_data"
    },
    {
     "name": "stdout",
     "output_type": "stream",
     "text": [
      "maximun values in each column:\n",
      " family_accession      PF17921.1\n",
      "seq_l_mean           531.951087\n",
      "seq_l_var           12959.31483\n",
      "acc                         1.0\n",
      "dtype: object\n"
     ]
    }
   ],
   "source": [
    "train_part['seq_length']  = train_part['sequence'].str.len()\n",
    "\n",
    "foo=train_part.groupby('family_accession')['seq_length'].agg([\"mean\", \"var\"])\n",
    "#reordering the mean and variance seq leghts to the same order as the accuracy data\n",
    "foo=foo.loc[labels.index.values[:],:]\n",
    "\n",
    "acc_df=pd.DataFrame(labels.index.values, columns=['family_accession'])\n",
    "\n",
    "#creating a new dataframe\n",
    "acc_df['seq_l_mean'] = foo['mean'].values\n",
    "acc_df['seq_l_var'] = foo['var'].values\n",
    "acc_df['acc']=acc\n",
    "\n",
    "#plotting that dataframe\n",
    "\n",
    "plt.figure(figsize=(25, 7))    \n",
    "plt.scatter(acc_df['seq_l_var'], acc_df['acc'])\n",
    "plt.title(\"Correlation of seq lenght variance in pfam to accuracy of prediction\")\n",
    "plt.xlabel(\"seq lenght variance in pfam in train\")\n",
    "plt.ylabel(\"accuracy of prediction in test set\")\n",
    "#set x axis limit here for zoom\n",
    "plt.xlim(0, 750)\n",
    "plt.show()\n",
    "\n",
    "\n",
    "plt.figure(figsize=(25, 7))    \n",
    "plt.scatter(acc_df['seq_l_mean'], acc_df['acc'])\n",
    "plt.title(\"Correlation of mean seq lenght in pfam to accuracy of prediction\")\n",
    "plt.xlabel(\"mean seq_lenght in pfam in train\")\n",
    "plt.ylabel(\"accuracy of prediction in test set\")\n",
    "#set x axis limit here for zoom\n",
    "plt.show()\n",
    "\n",
    "print(\"maximun values in each column:\\n\",acc_df.max())"
   ]
  },
  {
   "cell_type": "markdown",
   "id": "dd6f8407",
   "metadata": {
    "papermill": {
     "duration": 0.658338,
     "end_time": "2022-12-07T11:32:28.470505",
     "exception": false,
     "start_time": "2022-12-07T11:32:27.812167",
     "status": "completed"
    },
    "tags": []
   },
   "source": [
    "The per-pfam averaged sequence lenght and sequence length variance show at most a weak correlation with the prediction accuracy of the pfam, with more variance and longer average length being beneficial.\n",
    "\n",
    "There does seem to be one pfam with a very high variance. Let us see which it is"
   ]
  },
  {
   "cell_type": "code",
   "execution_count": 31,
   "id": "140f3746",
   "metadata": {
    "execution": {
     "iopub.execute_input": "2022-12-07T11:32:29.792719Z",
     "iopub.status.busy": "2022-12-07T11:32:29.791871Z",
     "iopub.status.idle": "2022-12-07T11:32:29.819456Z",
     "shell.execute_reply": "2022-12-07T11:32:29.817980Z"
    },
    "papermill": {
     "duration": 0.72538,
     "end_time": "2022-12-07T11:32:29.822176",
     "exception": false,
     "start_time": "2022-12-07T11:32:29.096796",
     "status": "completed"
    },
    "tags": []
   },
   "outputs": [
    {
     "name": "stdout",
     "output_type": "stream",
     "text": [
      "   family_accession  seq_l_mean    seq_l_var  acc\n",
      "79       PF01384.20  423.495302  12959.31483  1.0\n",
      "423.4953020134228 12941.919776586641\n"
     ]
    }
   ],
   "source": [
    "print(acc_df.loc[acc_df['seq_l_var']>10000])\n",
    "\n",
    "ls=train_part.loc[train_part['family_accession']=='PF01384.20']['seq_length'].values\n",
    "print(np.mean(ls), np.var(ls))\n"
   ]
  },
  {
   "attachments": {
    "d47dac8f-c31b-4f0d-9d13-877863dceb06.png": {
     "image/png": "[encoded data removed]"
    }
   },
   "cell_type": "markdown",
   "id": "4c2f6523",
   "metadata": {
    "papermill": {
     "duration": 0.723682,
     "end_time": "2022-12-07T11:32:31.239774",
     "exception": false,
     "start_time": "2022-12-07T11:32:30.516092",
     "status": "completed"
    },
    "tags": []
   },
   "source": [
    "Doesn't seem that anything is out of order, just an unusually flat distribution.\n",
    "\n",
    "Finally, I tested how the model handles different size ranges using the code block below. The results are:\n",
    "\n",
    "![image.png](attachment:d47dac8f-c31b-4f0d-9d13-877863dceb06.png)\n",
    "\n",
    "which show an expected deteriation with pham decreasing pfam in training. However, even for the smallest sizes the neural network does surprisingly well which indicates that networks could predict a range of sizes if present in training data or multiple networks with some kind of transfer learning might also work,"
   ]
  },
  {
   "cell_type": "code",
   "execution_count": 32,
   "id": "313771ea",
   "metadata": {
    "execution": {
     "iopub.execute_input": "2022-12-07T11:32:32.597526Z",
     "iopub.status.busy": "2022-12-07T11:32:32.597077Z",
     "iopub.status.idle": "2022-12-07T11:43:11.078210Z",
     "shell.execute_reply": "2022-12-07T11:43:11.075835Z"
    },
    "papermill": {
     "duration": 639.209559,
     "end_time": "2022-12-07T11:43:11.082155",
     "exception": false,
     "start_time": "2022-12-07T11:32:31.872596",
     "status": "completed"
    },
    "tags": []
   },
   "outputs": [
    {
     "name": "stdout",
     "output_type": "stream",
     "text": [
      "Number of classes 225\n",
      "Unique pfams in Train 225, data coverage in Train 0.157056, number of training samples 170679\n",
      "Unique pfams in Val 225, data coverage in Val 0.168097 \n",
      "Unique pfams in Test 225\n",
      "The largest considered pfam size is 3637\n",
      "The smallest considered pfam size is 566\n",
      "(170679, 225) (21209, 225) (21209, 225)\n",
      "(170679, 225, 21) (21209, 225, 21) (21209, 225, 21)\n",
      "Model: \"model_1\"\n",
      "__________________________________________________________________________________________________\n",
      "Layer (type)                    Output Shape         Param #     Connected to                     \n",
      "==================================================================================================\n",
      "input_2 (InputLayer)            [(None, 225, 21)]    0                                            \n",
      "__________________________________________________________________________________________________\n",
      "conv1d_5 (Conv1D)               (None, 225, 32)      704         input_2[0][0]                    \n",
      "__________________________________________________________________________________________________\n",
      "batch_normalization_4 (BatchNor (None, 225, 32)      128         conv1d_5[0][0]                   \n",
      "__________________________________________________________________________________________________\n",
      "activation_4 (Activation)       (None, 225, 32)      0           batch_normalization_4[0][0]      \n",
      "__________________________________________________________________________________________________\n",
      "conv1d_6 (Conv1D)               (None, 225, 32)      1056        activation_4[0][0]               \n",
      "__________________________________________________________________________________________________\n",
      "batch_normalization_5 (BatchNor (None, 225, 32)      128         conv1d_6[0][0]                   \n",
      "__________________________________________________________________________________________________\n",
      "activation_5 (Activation)       (None, 225, 32)      0           batch_normalization_5[0][0]      \n",
      "__________________________________________________________________________________________________\n",
      "conv1d_7 (Conv1D)               (None, 225, 32)      3104        activation_5[0][0]               \n",
      "__________________________________________________________________________________________________\n",
      "add_2 (Add)                     (None, 225, 32)      0           conv1d_7[0][0]                   \n",
      "                                                                 conv1d_5[0][0]                   \n",
      "__________________________________________________________________________________________________\n",
      "batch_normalization_6 (BatchNor (None, 225, 32)      128         add_2[0][0]                      \n",
      "__________________________________________________________________________________________________\n",
      "activation_6 (Activation)       (None, 225, 32)      0           batch_normalization_6[0][0]      \n",
      "__________________________________________________________________________________________________\n",
      "conv1d_8 (Conv1D)               (None, 225, 32)      1056        activation_6[0][0]               \n",
      "__________________________________________________________________________________________________\n",
      "batch_normalization_7 (BatchNor (None, 225, 32)      128         conv1d_8[0][0]                   \n",
      "__________________________________________________________________________________________________\n",
      "activation_7 (Activation)       (None, 225, 32)      0           batch_normalization_7[0][0]      \n",
      "__________________________________________________________________________________________________\n",
      "conv1d_9 (Conv1D)               (None, 225, 32)      3104        activation_7[0][0]               \n",
      "__________________________________________________________________________________________________\n",
      "add_3 (Add)                     (None, 225, 32)      0           conv1d_9[0][0]                   \n",
      "                                                                 add_2[0][0]                      \n",
      "__________________________________________________________________________________________________\n",
      "max_pooling1d_1 (MaxPooling1D)  (None, 75, 32)       0           add_3[0][0]                      \n",
      "__________________________________________________________________________________________________\n",
      "dropout_1 (Dropout)             (None, 75, 32)       0           max_pooling1d_1[0][0]            \n",
      "__________________________________________________________________________________________________\n",
      "flatten_1 (Flatten)             (None, 2400)         0           dropout_1[0][0]                  \n",
      "__________________________________________________________________________________________________\n",
      "dense_1 (Dense)                 (None, 225)          540225      flatten_1[0][0]                  \n",
      "==================================================================================================\n",
      "Total params: 549,761\n",
      "Trainable params: 549,505\n",
      "Non-trainable params: 256\n",
      "__________________________________________________________________________________________________\n",
      "Epoch 1/30\n",
      "2276/2276 [==============================] - 138s 60ms/step - loss: 0.3235 - accuracy: 0.9449 - val_loss: 0.1064 - val_accuracy: 0.9928\n",
      "Epoch 2/30\n",
      "2276/2276 [==============================] - 136s 60ms/step - loss: 0.1091 - accuracy: 0.9913 - val_loss: 0.1145 - val_accuracy: 0.9933\n",
      "Epoch 3/30\n",
      "2276/2276 [==============================] - 137s 60ms/step - loss: 0.1164 - accuracy: 0.9925 - val_loss: 0.1251 - val_accuracy: 0.9928\n",
      "Epoch 4/30\n",
      "2276/2276 [==============================] - 138s 61ms/step - loss: 0.1180 - accuracy: 0.9933 - val_loss: 0.1234 - val_accuracy: 0.9938\n",
      "Epoch 00004: early stopping\n",
      "2276/2276 [==============================] - 38s 17ms/step - loss: 0.1021 - accuracy: 0.9983\n",
      "Train loss:  0.10206764191389084\n",
      "Train accuracy:  0.9982599020004272\n",
      "----------------------------------------------------------------------\n",
      "283/283 [==============================] - 5s 19ms/step - loss: 0.1234 - accuracy: 0.9938\n",
      "Val loss:  0.1234464943408966\n",
      "Val accuracy:  0.9938233494758606\n",
      "----------------------------------------------------------------------\n",
      "283/283 [==============================] - 5s 16ms/step - loss: 0.1233 - accuracy: 0.9941\n",
      "Test loss:  0.12327923625707626\n",
      "Test accuracy:  0.994059145450592\n"
     ]
    },
    {
     "data": {
      "image/png": "[encoded data removed]",
      "text/plain": [
       "<Figure size 864x360 with 2 Axes>"
      ]
     },
     "metadata": {},
     "output_type": "display_data"
    }
   ],
   "source": [
    "\"This block reruns the whole training, handy for testing different set ranges\"\n",
    "N_begin=0\n",
    "N_end=225\n",
    "\n",
    "\"if you cleaned these from memory above, uncomment to download here again\"\n",
    "df_test = read_data('test')\n",
    "df_train = read_data('train')\n",
    "df_val=read_data('dev')\n",
    "\n",
    "\"If you need, uncomment to clean the old model from memory\"\n",
    "#del model1\n",
    "#gc.collec()\n",
    "\n",
    "train_part, val_part, test_part, N_classes=grab_classrange(df_train, df_val, df_test, N_begin, N_end)\n",
    "\n",
    "seq_max_l = 225\n",
    "padtype='post'\n",
    "trunctype='post'\n",
    "\n",
    "train_encd = int_encoding(train_part) \n",
    "val_encd = int_encoding(val_part) \n",
    "test_encd = int_encoding(test_part) \n",
    "\n",
    "train_pad = pad_sequences(train_encd, maxlen=seq_max_l, padding=padtype, truncating=trunctype)\n",
    "val_pad = pad_sequences(val_encd, maxlen=seq_max_l, padding=padtype, truncating=trunctype)\n",
    "test_pad = pad_sequences(test_encd, maxlen=seq_max_l, padding=padtype, truncating=trunctype)\n",
    "\n",
    "print(train_pad.shape, val_pad.shape, test_pad.shape)\n",
    "\n",
    "\n",
    "train_ohe = to_categorical(train_pad)\n",
    "val_ohe = to_categorical(val_pad)\n",
    "test_ohe = to_categorical(test_pad)\n",
    "\n",
    "print(train_ohe.shape, val_ohe.shape, test_ohe.shape) \n",
    "\n",
    "\n",
    "y_train_le = le.fit_transform(train_part['family_accession'])\n",
    "y_val_le = le.transform(val_part['family_accession'])\n",
    "y_test_le = le.transform(test_part['family_accession'])\n",
    "\n",
    "y_train_le.shape, y_val_le.shape, y_test_le.shape\n",
    "\n",
    "y_train = to_categorical(y_train_le)\n",
    "y_val = to_categorical(y_val_le)\n",
    "y_test = to_categorical(y_test_le)\n",
    "\n",
    "y_train.shape, y_val.shape, y_test.shape\n",
    "\n",
    "model1=create_resnet(seq_max_l, 2, 0.35, N_classes, 21)\n",
    "model1.summary()\n",
    "\n",
    "es = EarlyStopping(monitor='val_loss', patience=3, verbose=1)\n",
    "\n",
    "N_epoch=30\n",
    "B_size=75\n",
    "\n",
    "\n",
    "history1 = model1.fit(\n",
    "    train_ohe, y_train,\n",
    "    epochs=N_epoch, batch_size=B_size,\n",
    "    validation_data=(val_ohe, y_val),\n",
    "    callbacks=[es]\n",
    "    )\n",
    "\n",
    "display_model_score(model1,\n",
    "    [train_ohe, y_train],\n",
    "    [val_ohe, y_val],\n",
    "    [test_ohe, y_test],\n",
    "    B_size)\n",
    "\n",
    "plot_history(history1)"
   ]
  },
  {
   "cell_type": "markdown",
   "id": "e9553c92",
   "metadata": {
    "papermill": {
     "duration": 1.392314,
     "end_time": "2022-12-07T11:43:13.905922",
     "exception": false,
     "start_time": "2022-12-07T11:43:12.513608",
     "status": "completed"
    },
    "tags": []
   },
   "source": [
    "# Epilogue (for fun): 1nn with Levenshtein ratio?\n",
    "\n",
    "To compare, it would be fun see how predicting the pfam for by picking the closest with respect to the Levenshtein ratio on the training set does. Essentially a k-nearest neighbour where only one --- the nearest---neighbor is considered. \n",
    "Levenshtein distance (more info here: https://en.wikipedia.org/wiki/Levenshtein_distance) is a distance metric calculating the similarity of strings as edits needed to convert a string to another and hence could be usable also with amino acids. Levenshtein ratio is the string-lenght normalized version of this.\n",
    "\n",
    "\n",
    "The pre-requisite for knn methods is that the samples cluster somewhat with the distance metric.\n",
    "\n",
    "\n",
    "However, as we learnt above, doing distance calculations with custom metrics in data sets of this size is unfeasible on a python notebook. I tested the Lehvenshtein distance to be ~3 times the computational cost of the similarity measure above. Concerning CPU time, a neural network seems to be the considerably more effective choice.\n",
    "\n",
    "Instead of usual skilearn I did a quick and dirty implementation of 1nn using fuzzywuzzy below, it can only test a limited amount of samples but gives prediction accuracies over ~0.95 for most pfam size ranges which is surprisingly good. That number is a guestimate, though, owing to the limited amount of sequences tested.\n",
    "\n"
   ]
  },
  {
   "cell_type": "code",
   "execution_count": 33,
   "id": "8e943dab",
   "metadata": {
    "execution": {
     "iopub.execute_input": "2022-12-07T11:43:16.583929Z",
     "iopub.status.busy": "2022-12-07T11:43:16.583334Z",
     "iopub.status.idle": "2022-12-07T11:47:03.218868Z",
     "shell.execute_reply": "2022-12-07T11:47:03.217543Z"
    },
    "papermill": {
     "duration": 229.215161,
     "end_time": "2022-12-07T11:47:04.522075",
     "exception": false,
     "start_time": "2022-12-07T11:43:15.306914",
     "status": "completed"
    },
    "tags": []
   },
   "outputs": [
    {
     "name": "stdout",
     "output_type": "stream",
     "text": [
      "1nn \"accuracy\" 1.0\n",
      "Time consumed 226.50358700752258\n"
     ]
    }
   ],
   "source": [
    "import Levenshtein\n",
    "import time\n",
    "from fuzzywuzzy import fuzz, process\n",
    "\n",
    "def downsample_test(df):\n",
    "    \n",
    "    \"\"\"This is a function to reduce the bias on how test samples are selected. \n",
    "    Without downsampling to the size of smallest fpam it is likely to choose test samples \n",
    "    from the more common pfams giving too good of an estimate for accuracy\"\"\"\n",
    "    Nsample=df.family_accession.value_counts()[-1]\n",
    "   \n",
    "    test_ds = df.groupby('family_accession', group_keys=False).apply(lambda x: x.sample(Nsample))\n",
    "    test_ds = test_ds.sample(frac=1).reset_index(drop=True)\n",
    "    return test_ds\n",
    "    \n",
    "def simple_lev1NN(train_part, test_part, N_lim):\n",
    "    \n",
    "    x_train=train_part['sequence'].values\n",
    "    x_test=test_part['sequence'].values\n",
    "    xtrain_dict = {idx: el for idx, el in enumerate(x_train)}\n",
    "    \n",
    "    score=0\n",
    "    \n",
    "    for index, row in enumerate(x_test[:N_lim]):\n",
    "        result=process.extractOne(row, xtrain_dict, scorer=fuzz.ratio)\n",
    " \n",
    "        if train_part['family_accession'].values[result[2]]==test_part['family_accession'].values[index]:\n",
    "            score=score+1\n",
    "         \n",
    "    return score\n",
    "\n",
    "b=time.time()\n",
    "#tune the number of tested samples here\n",
    "Ntested=150\n",
    "test_ds=downsample_test(test_part)\n",
    "\n",
    "score=simple_lev1NN(train_part, test_ds, Ntested)\n",
    "e=time.time()\n",
    "print(\"1nn \\\"accuracy\\\"\", score/Ntested)\n",
    "print(\"Time consumed\", e-b)\n",
    "\n",
    "\n"
   ]
  },
  {
   "cell_type": "markdown",
   "id": "a2a8ec47",
   "metadata": {
    "papermill": {
     "duration": 1.356838,
     "end_time": "2022-12-07T11:47:07.265857",
     "exception": false,
     "start_time": "2022-12-07T11:47:05.909019",
     "status": "completed"
    },
    "tags": []
   },
   "source": [
    "# Summary\n",
    "* Due to the huge amount of pfams, and the presence of pfams with only few samples, I made a network to classify 225 most common pfams only\n",
    "* The network design was inspired by Bileshi et al\n",
    "* Resnet perform classification tasks accurately. The method is memory intensive but computationally quite effective compared to eg. knn, largely thanks to the fast convergence in training. \n",
    "* Performance deteriorates when pfam sample size is reduced, as espected. However, when retrained using same parameters,  networks still give >0.95 accuracy even for surprisingly small classes (~40 samples in train). This implies that transfer learning, eg, by freezing the network core, might be feasible. One might also consider ensemble methods where one method specializes for smaller classes, or ensemble of networks like in the Bileschi et al paper.\n",
    "* Scatter plot of pfam size vs accuracy shows weird, arc-like datapoint families. Root cause was not found, but is perhaps related to some core property that connects these families...or a numerical misshap."
   ]
  },
  {
   "cell_type": "markdown",
   "id": "05edff65",
   "metadata": {
    "papermill": {
     "duration": 1.38074,
     "end_time": "2022-12-07T11:47:10.041851",
     "exception": false,
     "start_time": "2022-12-07T11:47:08.661111",
     "status": "completed"
    },
    "tags": []
   },
   "source": []
  }
 ],
 "metadata": {
  "kernelspec": {
   "display_name": "Python 3",
   "language": "python",
   "name": "python3"
  },
  "language_info": {
   "codemirror_mode": {
    "name": "ipython",
    "version": 3
   },
   "file_extension": ".py",
   "mimetype": "text/x-python",
   "name": "python",
   "nbconvert_exporter": "python",
   "pygments_lexer": "ipython3",
   "version": "3.7.12"
  },
  "papermill": {
   "default_parameters": {},
   "duration": 1613.839199,
   "end_time": "2022-12-07T11:47:14.860339",
   "environment_variables": {},
   "exception": null,
   "input_path": "__notebook__.ipynb",
   "output_path": "__notebook__.ipynb",
   "parameters": {},
   "start_time": "2022-12-07T11:20:21.021140",
   "version": "2.3.4"
  }
 },
 "nbformat": 4,
 "nbformat_minor": 5
}
